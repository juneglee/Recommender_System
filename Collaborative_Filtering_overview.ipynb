{
 "cells": [
  {
   "cell_type": "markdown",
   "metadata": {},
   "source": [
    "# 협업 필터링(Collaborative_Filtering:CF)"
   ]
  },
  {
   "cell_type": "markdown",
   "metadata": {},
   "source": [
    "### 협업 필터링의 원리 \n",
    "- 어떤 아이템에 대해서 비슷한 취향을 가진 사람들은 다른 아이템에 대해서도 비슷한 취향을 가지고 있을 것이라고 가정\n",
    "- 협업 필터링(CF)은 기본적으로 취향이 비슷한 사람들의 집단이 존재한다고 가정한다. 추천의 대상이 되는 어떤 한 사람이 있으면,이 사람과 취향이 비슷한 사람들(neighbor)을 찾아내기만 하면 이 사람들이 공통적으로 좋아하는 제품, 서비스를 추천 대상인 사람에게 추천하면 된다는 것이 기본 아이디어 이다."
   ]
  },
  {
   "cell_type": "markdown",
   "metadata": {},
   "source": [
    "- 본격적인 알고리즘으로 들어가기 전에 사용자 간의 유사도 지표 (silmilarity index)에 대해서 이해할 필요가 있다. CF는 사용자들의 평가를 기반으로 사용자 간 유사도를 구하는 것이 핵심이다. CF에서는 다양한 유사도지표를 사용할 수 있는데, 이 중에서 중요한 유사도지표인 상관계수, 코사인 유사도를 알아본다 "
   ]
  },
  {
   "cell_type": "markdown",
   "metadata": {},
   "source": [
    "##### 상관계수 (correlation coefficient)\n",
    "- 평가 자료가 연속값인 경우에 가장 이해하기 쉬운 유사도로는 상관계수(correlation coefficient)가 있다. \n",
    "\n",
    "![correlation_coefficient](data/상관계수.png)\n",
    "\n",
    "- 여기서 유사도는 x,y의 두 사용자간에 공통으로 평가한 아이템 중에서 i번째 아이템에 대한 이 두사용자의 평가 값이다. \n",
    "- 상관계수는 최소 -1(완전반대)에서 최대 1(완전 일치)까지의 값을 가진다 "
   ]
  },
  {
   "cell_type": "markdown",
   "metadata": {},
   "source": [
    "###### 코사인 유사도 (cosine similarity)\n",
    "- 상관게수는 이해하기 쉬운 유사도 측정치이기는 하지만 협업 필터링에서 사용하는 경우 늘 좋은 결과를 가져오지 못하는 것으로 알려져 있다. \n",
    "- 협업 필터링에서 연속값에 대해서 사장 널리 쓰이는 또 다른 유사도 측정치로는 코사인 유사도가 있다. 코시인 유사도에서는 각 아이템을 하나의 차원(dimension)으로 보고 사용자의 평가값을 좌표값으로 본다. 그렇게 되면 각 사용자의 평가값을 벡터로 해서 두 사용자 간의 벡터의 각도(코사인값)을 구할 수 있다. 즉, 각 사용자의 평가값을 좌표로 사용해서 원점에서 사용자까지의 선을 그으면 그것이 그 사용자의 벡터가 되고 두 사용자의 평가값이 유사할수록 각도가 작다는 (코사인 값이 크다는) 것을 알 수 있다\n",
    "- 코사인 유사도의 계산식을 일반화 하면 아래와 같다 \n",
    "![cosine](data/cosine.png)\n",
    "- A와 B는 유사도 계산 대상이 되는 두 사용자이고, 두 사용자가 공통적으로 평가한 아이템 중에서 아이템에 대한 평가값이다. \n",
    "- 코사인 유사도는 최소 -1(완전 불일치)에서 최대 1(완전 일치)까지의 값을 가진다 \n"
   ]
  },
  {
   "cell_type": "markdown",
   "metadata": {},
   "source": [
    "###### 타니토모 계수(Tanimoto coefficient)\n",
    "- 만일 데이터가 이진값 (binary)을 갖는다면 위의 상관계수나 코사인 유사도는 사용할 수 없다. 이 경우 널리 사용되는 유사도 계산식으로는 타니모토 계수(Tanimoto coefficient)가 있다 \n",
    "\n",
    "- simil(x, y) = c / (a + b - c)\n",
    "- a: 사용자 x가 1의 값을 갖는(구입한 혹은 클릭한) 아이템의 수 \n",
    "- b: 사용자 y가 1의 값을 갖는(구입한 혹은 클릭한) 아이템의 수 \n",
    "- c: 사용자 x와 y가 공통적으로 1의 값을 갖는 아이템의 수 \n",
    "\n",
    "- 타니토모 계수는 최소 0(완전불일치)에서 최대 1(완전 일치)까지의 값을 가진다 \n",
    "- 타니모토 계수는 계산식은 간단하지만 이진수 데이터에 대해서는 협업 필터링에서 상당히 좋은 결과를 보여주는 것으로 알려져 있다 \n",
    "- 타니모토 계수의 변형으로 자카드 계수 (jaccard coefficient)도 있는데, 둘 다 이진수로 이루어진 데이터에 대해서 유사도를 구한다는 공통점이 있다 "
   ]
  },
  {
   "cell_type": "code",
   "execution_count": null,
   "metadata": {},
   "outputs": [],
   "source": []
  }
 ],
 "metadata": {
  "kernelspec": {
   "display_name": "Python 3",
   "language": "python",
   "name": "python3"
  },
  "language_info": {
   "codemirror_mode": {
    "name": "ipython",
    "version": 3
   },
   "file_extension": ".py",
   "mimetype": "text/x-python",
   "name": "python",
   "nbconvert_exporter": "python",
   "pygments_lexer": "ipython3",
   "version": "3.7.7"
  }
 },
 "nbformat": 4,
 "nbformat_minor": 4
}
