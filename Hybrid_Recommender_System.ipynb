{
 "cells": [
  {
   "cell_type": "markdown",
   "id": "1e2f4e3c",
   "metadata": {},
   "source": [
    "# 하이브리드(hybrid) 추천 시스템\n",
    "- 2개의 알고리즘을 결합하는 하이브리드 추천 알고리즘 "
   ]
  },
  {
   "cell_type": "code",
   "execution_count": 1,
   "id": "2d294436",
   "metadata": {},
   "outputs": [],
   "source": [
    "import numpy as np\n",
    "import pandas as pd\n",
    "import random\n",
    "from sklearn.utils import shuffle"
   ]
  },
  {
   "cell_type": "code",
   "execution_count": 2,
   "id": "3fc327fd",
   "metadata": {},
   "outputs": [],
   "source": [
    "# csv 파일에서 불러오기\n",
    "r_cols = ['user_id', 'movie_id', 'rating', 'timestamp']\n",
    "ratings = pd.read_csv('data/u.data', names=r_cols,  sep='\\t',encoding='latin-1')\n",
    "ratings = ratings[['user_id', 'movie_id', 'rating']].astype(int)            # timestamp 제거"
   ]
  },
  {
   "cell_type": "code",
   "execution_count": 3,
   "id": "3eaed2a2",
   "metadata": {},
   "outputs": [],
   "source": [
    "# train test 분리\n",
    "TRAIN_SIZE = 0.75\n",
    "ratings = shuffle(ratings, random_state=1)\n",
    "cutoff = int(TRAIN_SIZE * len(ratings))\n",
    "ratings_train = ratings.iloc[:cutoff]\n",
    "ratings_test = ratings.iloc[cutoff:]"
   ]
  },
  {
   "cell_type": "code",
   "execution_count": 4,
   "id": "299110b3",
   "metadata": {},
   "outputs": [],
   "source": [
    "# RMSE 계산을 위한 함수\n",
    "def RMSE2(y_true, y_pred):\n",
    "    return np.sqrt(np.mean((np.array(y_true) - np.array(y_pred))**2))"
   ]
  },
  {
   "cell_type": "markdown",
   "id": "14d0cd2b",
   "metadata": {},
   "source": [
    "### CF 추천 알고리즘 "
   ]
  },
  {
   "cell_type": "code",
   "execution_count": 5,
   "id": "18109913",
   "metadata": {},
   "outputs": [],
   "source": [
    "rating_matrix = ratings_train.pivot(index='user_id', columns='movie_id', values='rating')"
   ]
  },
  {
   "cell_type": "code",
   "execution_count": 6,
   "id": "0cf0bb39",
   "metadata": {},
   "outputs": [],
   "source": [
    "# train set 사용자들의 Cosine similarities 계산\n",
    "from sklearn.metrics.pairwise import cosine_similarity\n",
    "matrix_dummy = rating_matrix.copy().fillna(0)\n",
    "user_similarity = cosine_similarity(matrix_dummy, matrix_dummy)\n",
    "user_similarity = pd.DataFrame(user_similarity, index=rating_matrix.index, columns=rating_matrix.index)\n",
    "\n",
    "# train 데이터의 user의 rating 평균과 영화의 평점편차 계산 \n",
    "rating_mean = rating_matrix.mean(axis=1)\n",
    "rating_bias = (rating_matrix.T - rating_mean).T"
   ]
  },
  {
   "cell_type": "code",
   "execution_count": 7,
   "id": "71904bf9",
   "metadata": {},
   "outputs": [],
   "source": [
    "def CF_knn_bias(user_id, movie_id, neighbor_size=0):\n",
    "    if movie_id in rating_bias:\n",
    "        sim_scores = user_similarity[user_id]\n",
    "        movie_ratings = rating_bias[movie_id]\n",
    "        none_rating_idx = movie_ratings[movie_ratings.isnull()].index\n",
    "        movie_ratings = movie_ratings.drop(none_rating_idx)\n",
    "        sim_scores = sim_scores.drop(none_rating_idx)\n",
    "        if neighbor_size == 0:\n",
    "            prediction = np.dot(sim_scores, movie_ratings) / sim_scores.sum()\n",
    "            prediction = prediction + rating_mean[user_id]\n",
    "        else:\n",
    "            if len(sim_scores) > 1:\n",
    "                neighbor_size = min(neighbor_size, len(sim_scores))\n",
    "                sim_scores = np.array(sim_scores)\n",
    "                movie_ratings = np.array(movie_ratings)\n",
    "                user_idx = np.argsort(sim_scores)\n",
    "                sim_scores = sim_scores[user_idx][-neighbor_size:]\n",
    "                movie_ratings = movie_ratings[user_idx][-neighbor_size:]\n",
    "                prediction = np.dot(sim_scores, movie_ratings) / sim_scores.sum()\n",
    "                prediction = prediction + rating_mean[user_id]\n",
    "            else:\n",
    "                prediction = rating_mean[user_id]\n",
    "    else:\n",
    "        prediction = rating_mean[user_id]\n",
    "    return prediction"
   ]
  },
  {
   "cell_type": "markdown",
   "id": "c71d7a74",
   "metadata": {},
   "source": [
    "### MF 추천 알고리즘 "
   ]
  },
  {
   "cell_type": "code",
   "execution_count": 8,
   "id": "a6ba335a",
   "metadata": {},
   "outputs": [
    {
     "name": "stdout",
     "output_type": "stream",
     "text": [
      "Iteration: 10 ; Train RMSE = 0.9664 ; Test RMSE = 0.9833\n",
      "Iteration: 20 ; Train RMSE = 0.9420 ; Test RMSE = 0.9644\n",
      "Iteration: 30 ; Train RMSE = 0.9313 ; Test RMSE = 0.9566\n",
      "Iteration: 40 ; Train RMSE = 0.9253 ; Test RMSE = 0.9524\n",
      "Iteration: 50 ; Train RMSE = 0.9214 ; Test RMSE = 0.9497\n",
      "Iteration: 60 ; Train RMSE = 0.9186 ; Test RMSE = 0.9480\n",
      "Iteration: 70 ; Train RMSE = 0.9165 ; Test RMSE = 0.9468\n",
      "Iteration: 80 ; Train RMSE = 0.9148 ; Test RMSE = 0.9459\n",
      "Iteration: 90 ; Train RMSE = 0.9131 ; Test RMSE = 0.9451\n",
      "Iteration: 100 ; Train RMSE = 0.9112 ; Test RMSE = 0.9444\n",
      "Iteration: 110 ; Train RMSE = 0.9089 ; Test RMSE = 0.9435\n",
      "Iteration: 120 ; Train RMSE = 0.9058 ; Test RMSE = 0.9424\n",
      "Iteration: 130 ; Train RMSE = 0.9014 ; Test RMSE = 0.9407\n",
      "Iteration: 140 ; Train RMSE = 0.8951 ; Test RMSE = 0.9384\n",
      "Iteration: 150 ; Train RMSE = 0.8866 ; Test RMSE = 0.9352\n",
      "Iteration: 160 ; Train RMSE = 0.8761 ; Test RMSE = 0.9315\n",
      "Iteration: 170 ; Train RMSE = 0.8638 ; Test RMSE = 0.9277\n",
      "Iteration: 180 ; Train RMSE = 0.8501 ; Test RMSE = 0.9241\n",
      "Iteration: 190 ; Train RMSE = 0.8350 ; Test RMSE = 0.9208\n",
      "Iteration: 200 ; Train RMSE = 0.8184 ; Test RMSE = 0.9178\n",
      "Iteration: 210 ; Train RMSE = 0.8003 ; Test RMSE = 0.9152\n",
      "Iteration: 220 ; Train RMSE = 0.7805 ; Test RMSE = 0.9130\n",
      "Iteration: 230 ; Train RMSE = 0.7592 ; Test RMSE = 0.9113\n",
      "Iteration: 240 ; Train RMSE = 0.7367 ; Test RMSE = 0.9102\n",
      "Iteration: 250 ; Train RMSE = 0.7133 ; Test RMSE = 0.9097\n"
     ]
    }
   ],
   "source": [
    "class NEW_MF():\n",
    "    def __init__(self, ratings, K, alpha, beta, iterations, verbose=True):\n",
    "        self.R = np.array(ratings)\n",
    "        item_id_index = []\n",
    "        index_item_id = []\n",
    "        for i, one_id in enumerate(ratings):\n",
    "            item_id_index.append([one_id, i])\n",
    "            index_item_id.append([i, one_id])\n",
    "        self.item_id_index = dict(item_id_index)\n",
    "        self.index_item_id = dict(index_item_id)        \n",
    "        user_id_index = []\n",
    "        index_user_id = []\n",
    "        for i, one_id in enumerate(ratings.T):\n",
    "            user_id_index.append([one_id, i])\n",
    "            index_user_id.append([i, one_id])\n",
    "        self.user_id_index = dict(user_id_index)\n",
    "        self.index_user_id = dict(index_user_id)\n",
    "        self.num_users, self.num_items = np.shape(self.R)\n",
    "        self.K = K\n",
    "        self.alpha = alpha\n",
    "        self.beta = beta\n",
    "        self.iterations = iterations\n",
    "        self.verbose = verbose\n",
    "\n",
    "    # train set의 RMSE 계산\n",
    "    def rmse(self):\n",
    "        xs, ys = self.R.nonzero()\n",
    "        self.predictions = []\n",
    "        self.errors = []\n",
    "        for x, y in zip(xs, ys):\n",
    "            prediction = self.get_prediction(x, y)\n",
    "            self.predictions.append(prediction)\n",
    "            self.errors.append(self.R[x, y] - prediction)\n",
    "        self.predictions = np.array(self.predictions)\n",
    "        self.errors = np.array(self.errors)\n",
    "        return np.sqrt(np.mean(self.errors**2))\n",
    "\n",
    "    # Ratings for user i and item j\n",
    "    def get_prediction(self, i, j):\n",
    "        prediction = self.b + self.b_u[i] + self.b_d[j] + self.P[i, :].dot(self.Q[j, :].T)\n",
    "        return prediction\n",
    "\n",
    "    # Stochastic gradient descent to get optimized P and Q matrix\n",
    "    def sgd(self):\n",
    "        for i, j, r in self.samples:\n",
    "            prediction = self.get_prediction(i, j)\n",
    "            e = (r - prediction)\n",
    "\n",
    "            self.b_u[i] += self.alpha * (e - self.beta * self.b_u[i])\n",
    "            self.b_d[j] += self.alpha * (e - self.beta * self.b_d[j])\n",
    "\n",
    "            self.P[i, :] += self.alpha * (e * self.Q[j, :] - self.beta * self.P[i,:])\n",
    "            self.Q[j, :] += self.alpha * (e * self.P[i, :] - self.beta * self.Q[j,:])\n",
    "\n",
    "    # Test set을 선정\n",
    "    def set_test(self, ratings_test):\n",
    "        test_set = []\n",
    "        for i in range(len(ratings_test)):\n",
    "            x = self.user_id_index[ratings_test.iloc[i, 0]]\n",
    "            y = self.item_id_index[ratings_test.iloc[i, 1]]\n",
    "            z = ratings_test.iloc[i, 2]\n",
    "            test_set.append([x, y, z])\n",
    "            self.R[x, y] = 0                    # Setting test set ratings to 0\n",
    "        self.test_set = test_set\n",
    "        return test_set                         # Return test set\n",
    "\n",
    "    # Test set의 RMSE 계산\n",
    "    def test_rmse(self):\n",
    "        error = 0\n",
    "        for one_set in self.test_set:\n",
    "            predicted = self.get_prediction(one_set[0], one_set[1])\n",
    "            error += pow(one_set[2] - predicted, 2)\n",
    "        return np.sqrt(error/len(self.test_set))\n",
    "\n",
    "    # Training 하면서 test set의 정확도를 계산\n",
    "    def test(self):\n",
    "        # Initializing user-feature and item-feature matrix\n",
    "        self.P = np.random.normal(scale=1./self.K, size=(self.num_users, self.K))\n",
    "        self.Q = np.random.normal(scale=1./self.K, size=(self.num_items, self.K))\n",
    "\n",
    "        # Initializing the bias terms\n",
    "        self.b_u = np.zeros(self.num_users)\n",
    "        self.b_d = np.zeros(self.num_items)\n",
    "        self.b = np.mean(self.R[self.R.nonzero()])\n",
    "\n",
    "        # List of training samples\n",
    "        rows, columns = self.R.nonzero()\n",
    "        self.samples = [(i, j, self.R[i,j]) for i, j in zip(rows, columns)]\n",
    "\n",
    "        # Stochastic gradient descent for given number of iterations\n",
    "        training_process = []\n",
    "        for i in range(self.iterations):\n",
    "            np.random.shuffle(self.samples)\n",
    "            self.sgd()\n",
    "            rmse1 = self.rmse()\n",
    "            rmse2 = self.test_rmse()\n",
    "            training_process.append((i+1, rmse1, rmse2))\n",
    "            if self.verbose:\n",
    "                if (i+1) % 10 == 0:\n",
    "                    print(\"Iteration: %d ; Train RMSE = %.4f ; Test RMSE = %.4f\" % (i+1, rmse1, rmse2))\n",
    "        return training_process\n",
    "\n",
    "    # Ratings for given user_id and item_id\n",
    "    def get_one_prediction(self, user_id, item_id):\n",
    "        prediction = self.get_prediction(self.user_id_index[user_id], self.item_id_index[item_id])\n",
    "        return prediction\n",
    "\n",
    "    # Full user-movie rating matrix\n",
    "    def full_prediction(self):\n",
    "        return self.b + self.b_u[:,np.newaxis] + self.b_d[np.newaxis,:] + self.P.dot(self.Q.T)\n",
    "\n",
    "# MF클래스 생성 및 학습\n",
    "R_temp = ratings.pivot(index='user_id', columns='movie_id', values='rating').fillna(0)\n",
    "mf = NEW_MF(R_temp, K=200, alpha=0.001, beta=0.02, iterations=250, verbose=True)\n",
    "test_set = mf.set_test(ratings_test)\n",
    "result = mf.test()"
   ]
  },
  {
   "cell_type": "markdown",
   "id": "60587a45",
   "metadata": {},
   "source": [
    "### Hybrid 추천 알고리즘"
   ]
  },
  {
   "cell_type": "code",
   "execution_count": 9,
   "id": "254781e8",
   "metadata": {},
   "outputs": [],
   "source": [
    "# MF 알고리즘의 예측값을 받아오는 함수\n",
    "def recommender0(recomm_list, mf):\n",
    "    recommendations = np.array([mf.get_one_prediction(user, movie) for (user, movie) in recomm_list])\n",
    "    return recommendations"
   ]
  },
  {
   "cell_type": "code",
   "execution_count": 10,
   "id": "72b50d22",
   "metadata": {},
   "outputs": [],
   "source": [
    "# CF 알고리즘의 예측값을 받아오는 함수 \n",
    "def recommender1(recomm_list, neighbor_size=0):\n",
    "    recommendations = np.array([CF_knn_bias(user, movie, neighbor_size) for (user, movie) in recomm_list])\n",
    "    return recommendations"
   ]
  },
  {
   "cell_type": "code",
   "execution_count": 11,
   "id": "110d376d",
   "metadata": {},
   "outputs": [
    {
     "data": {
      "text/plain": [
       "0.9467199341641682"
      ]
     },
     "execution_count": 11,
     "metadata": {},
     "output_type": "execute_result"
    }
   ],
   "source": [
    "recomm_list = np.array(ratings_test.iloc[:, [0, 1]]) # test set을 numpy array 형식의 추천 대상 리스트로 만든다 \n",
    "predictions0 = recommender0(recomm_list, mf) # MF 기반 알고리즘의 예측값을 받아온다 \n",
    "RMSE2(ratings_test.iloc[:, 2], predictions0) # MF 기반 RMSE를 계산\n",
    "predictions1 = recommender1(recomm_list, 37) # CF 기반 알고리즘의 예측값을 받아온다 \n",
    "RMSE2(ratings_test.iloc[:, 2], predictions1) # CF 기반 RMSE를 계산"
   ]
  },
  {
   "cell_type": "code",
   "execution_count": 12,
   "id": "78d975db",
   "metadata": {},
   "outputs": [],
   "source": [
    "# # Hybrid 결과 얻기\n",
    "# weight = [0.8, 0.2] # 두 함수의 결합 비중을 정한다\n",
    "# recomm_list = np.array(ratings_test) # test set을 numpy array로 반화한다\n",
    "# predictions0 = recommender0(recomm_list) # 첫 번째 추천엔진으로부터 추천 리스트의 예측값을 받는다 \n",
    "# predictions1 = recommender1(recomm_list) # 두 번째 추천엔진으로부터 추천 리스트의 예측값을 받는다 \n",
    "# predictions = predictions0 * weight[0] + predictions1 * weight[1] # 두 추천 엔진의 에측값을 주어진 가중치로 가중평균한다\n",
    "# RMSE2(recomm_list[:, 2], predictions) # 하이브리드 예측치의 RMSE를 계산"
   ]
  },
  {
   "cell_type": "code",
   "execution_count": 13,
   "id": "ce587e76",
   "metadata": {},
   "outputs": [
    {
     "data": {
      "text/plain": [
       "0.9093741849631944"
      ]
     },
     "execution_count": 13,
     "metadata": {},
     "output_type": "execute_result"
    }
   ],
   "source": [
    "weight = [0.8, 0.2] # 결합 가중치 지정\n",
    "predictions = predictions0 * weight[0] + predictions1 * weight[1] # 가중치에 따라 두 처천 알고리즘에서 가져온 예측값을 가중 평균\n",
    "RMSE2(ratings_test.iloc[:, 2], predictions) # 하이브리드 RMSE를 계산 "
   ]
  },
  {
   "cell_type": "code",
   "execution_count": 14,
   "id": "66c30d37",
   "metadata": {},
   "outputs": [
    {
     "name": "stdout",
     "output_type": "stream",
     "text": [
      "Weights - 0.00 : 1.00 ; RMSE = 0.9467199\n",
      "Weights - 0.01 : 0.99 ; RMSE = 0.9458883\n",
      "Weights - 0.02 : 0.98 ; RMSE = 0.9450655\n",
      "Weights - 0.03 : 0.97 ; RMSE = 0.9442514\n",
      "Weights - 0.04 : 0.96 ; RMSE = 0.9434461\n",
      "Weights - 0.05 : 0.95 ; RMSE = 0.9426496\n",
      "Weights - 0.06 : 0.94 ; RMSE = 0.9418619\n",
      "Weights - 0.07 : 0.93 ; RMSE = 0.9410831\n",
      "Weights - 0.08 : 0.92 ; RMSE = 0.9403132\n",
      "Weights - 0.09 : 0.91 ; RMSE = 0.9395521\n",
      "Weights - 0.10 : 0.90 ; RMSE = 0.9388000\n",
      "Weights - 0.11 : 0.89 ; RMSE = 0.9380569\n",
      "Weights - 0.12 : 0.88 ; RMSE = 0.9373227\n",
      "Weights - 0.13 : 0.87 ; RMSE = 0.9365975\n",
      "Weights - 0.14 : 0.86 ; RMSE = 0.9358813\n",
      "Weights - 0.15 : 0.85 ; RMSE = 0.9351741\n",
      "Weights - 0.16 : 0.84 ; RMSE = 0.9344760\n",
      "Weights - 0.17 : 0.83 ; RMSE = 0.9337869\n",
      "Weights - 0.18 : 0.82 ; RMSE = 0.9331069\n",
      "Weights - 0.19 : 0.81 ; RMSE = 0.9324360\n",
      "Weights - 0.20 : 0.80 ; RMSE = 0.9317743\n",
      "Weights - 0.21 : 0.79 ; RMSE = 0.9311217\n",
      "Weights - 0.22 : 0.78 ; RMSE = 0.9304783\n",
      "Weights - 0.23 : 0.77 ; RMSE = 0.9298441\n",
      "Weights - 0.24 : 0.76 ; RMSE = 0.9292190\n",
      "Weights - 0.25 : 0.75 ; RMSE = 0.9286032\n",
      "Weights - 0.26 : 0.74 ; RMSE = 0.9279966\n",
      "Weights - 0.27 : 0.73 ; RMSE = 0.9273993\n",
      "Weights - 0.28 : 0.72 ; RMSE = 0.9268113\n",
      "Weights - 0.29 : 0.71 ; RMSE = 0.9262326\n",
      "Weights - 0.30 : 0.70 ; RMSE = 0.9256631\n",
      "Weights - 0.31 : 0.69 ; RMSE = 0.9251030\n",
      "Weights - 0.32 : 0.68 ; RMSE = 0.9245523\n",
      "Weights - 0.33 : 0.67 ; RMSE = 0.9240109\n",
      "Weights - 0.34 : 0.66 ; RMSE = 0.9234789\n",
      "Weights - 0.35 : 0.65 ; RMSE = 0.9229563\n",
      "Weights - 0.36 : 0.64 ; RMSE = 0.9224431\n",
      "Weights - 0.37 : 0.63 ; RMSE = 0.9219393\n",
      "Weights - 0.38 : 0.62 ; RMSE = 0.9214450\n",
      "Weights - 0.39 : 0.61 ; RMSE = 0.9209601\n",
      "Weights - 0.40 : 0.60 ; RMSE = 0.9204847\n",
      "Weights - 0.41 : 0.59 ; RMSE = 0.9200188\n",
      "Weights - 0.42 : 0.58 ; RMSE = 0.9195624\n",
      "Weights - 0.43 : 0.57 ; RMSE = 0.9191155\n",
      "Weights - 0.44 : 0.56 ; RMSE = 0.9186781\n",
      "Weights - 0.45 : 0.55 ; RMSE = 0.9182503\n",
      "Weights - 0.46 : 0.54 ; RMSE = 0.9178320\n",
      "Weights - 0.47 : 0.53 ; RMSE = 0.9174234\n",
      "Weights - 0.48 : 0.52 ; RMSE = 0.9170242\n",
      "Weights - 0.49 : 0.51 ; RMSE = 0.9166347\n",
      "Weights - 0.50 : 0.50 ; RMSE = 0.9162548\n",
      "Weights - 0.51 : 0.49 ; RMSE = 0.9158845\n",
      "Weights - 0.52 : 0.48 ; RMSE = 0.9155239\n",
      "Weights - 0.53 : 0.47 ; RMSE = 0.9151729\n",
      "Weights - 0.54 : 0.46 ; RMSE = 0.9148315\n",
      "Weights - 0.55 : 0.45 ; RMSE = 0.9144998\n",
      "Weights - 0.56 : 0.44 ; RMSE = 0.9141778\n",
      "Weights - 0.57 : 0.43 ; RMSE = 0.9138655\n",
      "Weights - 0.58 : 0.42 ; RMSE = 0.9135629\n",
      "Weights - 0.59 : 0.41 ; RMSE = 0.9132699\n",
      "Weights - 0.60 : 0.40 ; RMSE = 0.9129867\n",
      "Weights - 0.61 : 0.39 ; RMSE = 0.9127132\n",
      "Weights - 0.62 : 0.38 ; RMSE = 0.9124495\n",
      "Weights - 0.63 : 0.37 ; RMSE = 0.9121955\n",
      "Weights - 0.64 : 0.36 ; RMSE = 0.9119512\n",
      "Weights - 0.65 : 0.35 ; RMSE = 0.9117167\n",
      "Weights - 0.66 : 0.34 ; RMSE = 0.9114919\n",
      "Weights - 0.67 : 0.33 ; RMSE = 0.9112770\n",
      "Weights - 0.68 : 0.32 ; RMSE = 0.9110718\n",
      "Weights - 0.69 : 0.31 ; RMSE = 0.9108763\n",
      "Weights - 0.70 : 0.30 ; RMSE = 0.9106907\n",
      "Weights - 0.71 : 0.29 ; RMSE = 0.9105149\n",
      "Weights - 0.72 : 0.28 ; RMSE = 0.9103489\n",
      "Weights - 0.73 : 0.27 ; RMSE = 0.9101927\n",
      "Weights - 0.74 : 0.26 ; RMSE = 0.9100463\n",
      "Weights - 0.75 : 0.25 ; RMSE = 0.9099097\n",
      "Weights - 0.76 : 0.24 ; RMSE = 0.9097829\n",
      "Weights - 0.77 : 0.23 ; RMSE = 0.9096660\n",
      "Weights - 0.78 : 0.22 ; RMSE = 0.9095589\n",
      "Weights - 0.79 : 0.21 ; RMSE = 0.9094616\n",
      "Weights - 0.80 : 0.20 ; RMSE = 0.9093742\n",
      "Weights - 0.81 : 0.19 ; RMSE = 0.9092966\n",
      "Weights - 0.82 : 0.18 ; RMSE = 0.9092288\n",
      "Weights - 0.83 : 0.17 ; RMSE = 0.9091709\n",
      "Weights - 0.84 : 0.16 ; RMSE = 0.9091229\n",
      "Weights - 0.85 : 0.15 ; RMSE = 0.9090847\n",
      "Weights - 0.86 : 0.14 ; RMSE = 0.9090563\n",
      "Weights - 0.87 : 0.13 ; RMSE = 0.9090378\n",
      "Weights - 0.88 : 0.12 ; RMSE = 0.9090291\n",
      "Weights - 0.89 : 0.11 ; RMSE = 0.9090303\n",
      "Weights - 0.90 : 0.10 ; RMSE = 0.9090414\n",
      "Weights - 0.91 : 0.09 ; RMSE = 0.9090623\n",
      "Weights - 0.92 : 0.08 ; RMSE = 0.9090930\n",
      "Weights - 0.93 : 0.07 ; RMSE = 0.9091336\n",
      "Weights - 0.94 : 0.06 ; RMSE = 0.9091840\n",
      "Weights - 0.95 : 0.05 ; RMSE = 0.9092443\n",
      "Weights - 0.96 : 0.04 ; RMSE = 0.9093145\n",
      "Weights - 0.97 : 0.03 ; RMSE = 0.9093944\n",
      "Weights - 0.98 : 0.02 ; RMSE = 0.9094842\n",
      "Weights - 0.99 : 0.01 ; RMSE = 0.9095839\n"
     ]
    }
   ],
   "source": [
    "for i in np.arange(0, 1, 0.01):\n",
    "    weight = [i, 1.0 - i]\n",
    "    predictions = predictions0 * weight[0] + predictions1 * weight[1]\n",
    "    print(\"Weights - %.2f : %.2f ; RMSE = %.7f\" % (weight[0], \n",
    "           weight[1], RMSE2(ratings_test.iloc[:, 2], predictions)))"
   ]
  },
  {
   "cell_type": "code",
   "execution_count": null,
   "id": "9ac2b68b",
   "metadata": {},
   "outputs": [],
   "source": []
  }
 ],
 "metadata": {
  "kernelspec": {
   "display_name": "Python 3",
   "language": "python",
   "name": "python3"
  },
  "language_info": {
   "codemirror_mode": {
    "name": "ipython",
    "version": 3
   },
   "file_extension": ".py",
   "mimetype": "text/x-python",
   "name": "python",
   "nbconvert_exporter": "python",
   "pygments_lexer": "ipython3",
   "version": "3.7.7"
  }
 },
 "nbformat": 4,
 "nbformat_minor": 5
}
