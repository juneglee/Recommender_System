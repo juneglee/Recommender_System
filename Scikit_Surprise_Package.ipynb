{
 "cells": [
  {
   "cell_type": "markdown",
   "metadata": {},
   "source": [
    "# Surprise 패키지 사용\n",
    "- CF와 MF 기반 추천 시스템을 구현하고 테스트해볼 수 있는 패키지가 존재하며, 현재 가장 널리 알려진 것으로는 Surprise가 있다. \n",
    "- Surprise는 scikit 패키지의 일부로서 다양한 CF, MF 기반 알고리즘을 테스트해 볼수 있으는 유용한 패키지 이다"
   ]
  },
  {
   "cell_type": "markdown",
   "metadata": {},
   "source": [
    "- Surprise에는 추천 시스템 테스트를 위한 많은 기능이 있다. 우선 기본적으로 ml-100k, ml-lm, jester 이렇게 3가지 데이터가 내장되어 있다. 이중에서 Ml-100k는 moiveLens 100K 데이터 이고, ml-1m은 movieLens-1m(100만개) 데이터, jester는 미국의 버클리 대학교에서 추천 시스템 연구 목적으로 수집한 조크 사이트의 게시물(조크나 재미있는 이야기)에 대한 650만개의 평가 데이터 이다"
   ]
  },
  {
   "cell_type": "markdown",
   "metadata": {},
   "source": [
    "### Surprise의 다양한 종류의 알고리즘 "
   ]
  },
  {
   "cell_type": "markdown",
   "metadata": {},
   "source": [
    "1. random_pred.NormalPredictor \n",
    "    - Training set의 분포가 정규분포라고 가정한 상태에서 평점을 무작위로 추출하는 알고리즘. 일반적으로 성능이 안좋음\n",
    "2. baseline_only.BaselineOnly\n",
    "    - 사용자의 평점 평균과 아이템의 평점 평균을 모델화해서 예측하는 알고리즘\n",
    "3. knns.KNNBasic \n",
    "    - 이웃을 고려한 기본적인 CF 알고리즘\n",
    "4. knns.KNNWithMeans\n",
    "    - 사용자의 평가 경향을 고려한 CF 알고리즘\n",
    "5. knns.KNNWithZScore\n",
    "    - 사용자의 평가 경향을 표준(정규 분포)화시킨 CF 알고리즘\n",
    "6. knns.KNNBaseline\n",
    "    - 사용자의 평점 평균과 아이템의 평점 평균을 모델화시킨 것(Baseline rating)을 고려한 CF 알고리즘\n",
    "7. matrix_factorizaion.SBD\n",
    "    - MF 알고리즘\n",
    "8. matrix_factorizaion.SVDpp\n",
    "    - MF 기반으로 사용자의 특정 아이템에 대한 평가여부를 이진값으로 일종의 암묵적 평가로 추가한 SVD++ 알고리즘\n",
    "9. matrix_factorizaion.NMF\n",
    "    - 행렬의 값이 전부 양수일 때 사용 가능한 MF 알고리즘\n",
    "10. slope_one.SlopeOne\n",
    "    - 간단하면서도 정확도가 높은 것이 특징인 slopeOne알고리즘을 적용한 Item-based CF 알고리즘\n",
    "11. co_clustering.CoClustering\n",
    "    - 사용자와 아이템을 동시에 클러스터링하는 기법을 적용한 CF 알고리즘 "
   ]
  },
  {
   "cell_type": "code",
   "execution_count": 1,
   "metadata": {},
   "outputs": [],
   "source": [
    "# pip install scikit-surprise\n",
    "# conda install -c conda-forge scikit-surprise\n",
    "# ModuleNotFoundError: No module named 'surprise'"
   ]
  },
  {
   "cell_type": "code",
   "execution_count": 2,
   "metadata": {},
   "outputs": [],
   "source": [
    "import numpy as np\n",
    "import pandas as pd\n",
    "\n",
    "# 필요한 Surprise 알고리즘 불러오기\n",
    "from surprise import BaselineOnly \n",
    "from surprise import KNNWithMeans\n",
    "from surprise import SVD\n",
    "from surprise import SVDpp\n",
    "from surprise import NMF\n",
    "from surprise import Dataset\n",
    "from surprise import accuracy\n",
    "from surprise import Reader\n",
    "from surprise.model_selection import cross_validate\n",
    "from surprise.model_selection import train_test_split"
   ]
  },
  {
   "cell_type": "code",
   "execution_count": 3,
   "metadata": {},
   "outputs": [
    {
     "name": "stdout",
     "output_type": "stream",
     "text": [
      "Dataset ml-100k could not be found. Do you want to download it? [Y/n] y\n",
      "Trying to download dataset from http://files.grouplens.org/datasets/movielens/ml-100k.zip...\n",
      "Done! Dataset ml-100k has been saved to /root/.surprise_data/ml-100k\n"
     ]
    }
   ],
   "source": [
    "# MovieLens 100K 데이터 불러오기\n",
    "data = Dataset.load_builtin('ml-100k')"
   ]
  },
  {
   "cell_type": "code",
   "execution_count": 4,
   "metadata": {},
   "outputs": [],
   "source": [
    "# Train/Test 분리 \n",
    "trainset, testset = train_test_split(data, test_size=0.25) # 0.75 / 0.25"
   ]
  },
  {
   "cell_type": "code",
   "execution_count": 5,
   "metadata": {},
   "outputs": [
    {
     "name": "stdout",
     "output_type": "stream",
     "text": [
      "Computing the msd similarity matrix...\n",
      "Done computing similarity matrix.\n",
      "RMSE: 0.9553\n"
     ]
    },
    {
     "data": {
      "text/plain": [
       "0.9552647920824257"
      ]
     },
     "execution_count": 5,
     "metadata": {},
     "output_type": "execute_result"
    }
   ],
   "source": [
    "# 정확도 계산 \n",
    "algo = KNNWithMeans()\n",
    "algo.fit(trainset)\n",
    "predictions = algo.test(testset)\n",
    "accuracy.rmse(predictions)"
   ]
  },
  {
   "cell_type": "markdown",
   "metadata": {},
   "source": [
    "### 알고리즘 비교"
   ]
  },
  {
   "cell_type": "code",
   "execution_count": 6,
   "metadata": {},
   "outputs": [
    {
     "name": "stdout",
     "output_type": "stream",
     "text": [
      "Estimating biases using als...\n",
      "RMSE: 0.9453\n",
      "Computing the msd similarity matrix...\n",
      "Done computing similarity matrix.\n",
      "RMSE: 0.9553\n",
      "RMSE: 0.9433\n",
      "RMSE: 0.9253\n"
     ]
    },
    {
     "data": {
      "text/plain": [
       "array([0.92532487, 0.94330014, 0.94527405, 0.95526479])"
      ]
     },
     "execution_count": 6,
     "metadata": {},
     "output_type": "execute_result"
    },
    {
     "data": {
      "image/png": "[encoded data removed]",
      "text/plain": [
       "<Figure size 432x288 with 1 Axes>"
      ]
     },
     "metadata": {
      "needs_background": "light"
     },
     "output_type": "display_data"
    }
   ],
   "source": [
    "# 알고리즘 비교\n",
    "algorithms = [BaselineOnly, KNNWithMeans, SVD, SVDpp] # 4개의 알고리즘 이름을 지정\n",
    "names = []\n",
    "results = []\n",
    "for option in algorithms:\n",
    "    algo = option()  \n",
    "    names.append(option.__name__)       # 알고리즘 이름, __name__은 option 의 속성으로서 알고리즘 이름을 저장하고 있다. \n",
    "    algo.fit(trainset)\n",
    "    predictions = algo.test(testset)\n",
    "    results.append(accuracy.rmse(predictions))\n",
    "names = np.array(names) #  그래프를 작성하기 위해서 array 형식으로 변경 \n",
    "results = np.array(results) #  그래프를 작성하기 위해서 array 형식으로 변경 \n",
    "\n",
    "# 결과를 그래프로 표시\n",
    "import matplotlib.pyplot as plt\n",
    "index = np.argsort(results) # 정확도의 순서대로 정렬한 인덱스를 받아온다 \n",
    "plt.ylim(0.8, 1)\n",
    "plt.plot(names[index], results[index])\n",
    "results[index]"
   ]
  },
  {
   "cell_type": "markdown",
   "metadata": {},
   "source": [
    "### 알고리즘 옵션 지정"
   ]
  },
  {
   "cell_type": "code",
   "execution_count": 7,
   "metadata": {},
   "outputs": [
    {
     "name": "stdout",
     "output_type": "stream",
     "text": [
      "Estimating biases using als...\n",
      "Computing the pearson_baseline similarity matrix...\n",
      "Done computing similarity matrix.\n",
      "RMSE: 0.9447\n"
     ]
    },
    {
     "data": {
      "text/plain": [
       "0.9447027379076272"
      ]
     },
     "execution_count": 7,
     "metadata": {},
     "output_type": "execute_result"
    }
   ],
   "source": [
    "# 알고리즘 옵션 변경, 정확도 계산\n",
    "sim_options = {'name': 'pearson_baseline',\n",
    "               'user_based': True}\n",
    "'''\n",
    "알고리즘과 정확도 게산 옵션을 dict 형식으로 지정한다. 옵션은 알고리즘의 종류에 따라 조금씩 차이가 있는데\n",
    "KNN의 경우 'name'에 유사도 지표의 종류를 지정한다 \n",
    "유사도 종류에는 cosine, msd, pearson, pearson_baseline이 있다\n",
    "user_based가 True 이므로 user-based CF(UBCF) 알고리즘을 사용한다. False 일 경우는 Item-Based CF(IBCF)알고리즘 사용\n",
    "'''\n",
    "algo = KNNWithMeans(k=30, sim_options=sim_options) # 이웃의 크기를 30으로 하고, 지정한 sim_option으로 지정한 옵션을 사용 \n",
    "algo.fit(trainset)\n",
    "predictions = algo.test(testset)\n",
    "accuracy.rmse(predictions)"
   ]
  },
  {
   "cell_type": "code",
   "execution_count": null,
   "metadata": {},
   "outputs": [],
   "source": []
  }
 ],
 "metadata": {
  "kernelspec": {
   "display_name": "Python 3",
   "language": "python",
   "name": "python3"
  },
  "language_info": {
   "codemirror_mode": {
    "name": "ipython",
    "version": 3
   },
   "file_extension": ".py",
   "mimetype": "text/x-python",
   "name": "python",
   "nbconvert_exporter": "python",
   "pygments_lexer": "ipython3",
   "version": "3.6.9"
  }
 },
 "nbformat": 4,
 "nbformat_minor": 2
}
