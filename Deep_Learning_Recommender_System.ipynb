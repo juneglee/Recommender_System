{
 "cells": [
  {
   "cell_type": "markdown",
   "id": "a0eaf16a",
   "metadata": {},
   "source": [
    "# 딥러닝을 적용한 추천 시스템\n",
    "- 딥러닝을 어떻게 추천에 적용할 수 있는지 생각해 보면, 우선 추천을 위한 입력으로 사용자와 아이템의 특성을 나타낼 수 있는 embedding 데이터가 필요하다. 사용자와 아이템을 embidding해서 입력으로 넣으면 사용자와 아이템 간의 특성을 학습해서 추천(예측)에 이용할 수 있다."
   ]
  },
  {
   "cell_type": "markdown",
   "id": "446d1d61",
   "metadata": {},
   "source": [
    "![DNN](data/DNN.jpg)"
   ]
  },
  {
   "cell_type": "markdown",
   "id": "54ded397",
   "metadata": {},
   "source": [
    "- 이와 같이 One-hot representation 으로 변환하고 (input layer), 이를 잠재요인(Embedding Layer)으로 연결시킨다. 그러면 사용자 잠재요인(User latent Vector)과 아이템 잠재요인 (Item Latent vector)이 만들어지는데, 이둘을 합쳐서 신경망의 첫번째 층인 레이어 1이 만들어진다. 사용자 잠재요인과 아이템 잠죠요인을 합치는 가장 단순한 방법은 인공신경망에서 사용되는 결합(concatenate)을 이용해서 앞뒤로 그래도 붙이는 방법이다. 일단 첫 번째 층이 만들어지면, 그 다음부터는 일반적인 DL에서와 같이 적절한 층을 쌓아나가면 된다. 맨 끝(위)에는 출력으로 예측하고자 하는 평점이 놓이기 된다. "
   ]
  },
  {
   "cell_type": "code",
   "execution_count": 1,
   "id": "d591324b",
   "metadata": {},
   "outputs": [],
   "source": [
    "import pandas as pd\n",
    "import numpy as np\n",
    "\n",
    "from sklearn.utils import shuffle\n",
    "\n",
    "import tensorflow as tf\n",
    "from tensorflow.keras import layers\n",
    "from tensorflow.keras.models import Model\n",
    "from tensorflow.keras.layers import Input, Embedding, Dot, Add, Flatten\n",
    "from tensorflow.keras.regularizers import l2\n",
    "from tensorflow.keras.optimizers import SGD, Adam, Adamax"
   ]
  },
  {
   "cell_type": "code",
   "execution_count": 2,
   "id": "5482ba34",
   "metadata": {},
   "outputs": [],
   "source": [
    "# csv 파일에서 불러오기\n",
    "r_cols = ['user_id', 'movie_id', 'rating', 'timestamp']\n",
    "ratings = pd.read_csv('data/u.data', names=r_cols,  sep='\\t',encoding='latin-1')\n",
    "ratings = ratings[['user_id', 'movie_id', 'rating']].astype(int)\n",
    "\n",
    "# train test 분리\n",
    "TRAIN_SIZE = 0.75\n",
    "ratings = shuffle(ratings)\n",
    "cutoff = int(TRAIN_SIZE * len(ratings))\n",
    "ratings_train = ratings.iloc[:cutoff]\n",
    "ratings_test = ratings.iloc[cutoff:]"
   ]
  },
  {
   "cell_type": "code",
   "execution_count": 3,
   "id": "eac5ccae",
   "metadata": {},
   "outputs": [],
   "source": [
    "# Variable 초기화 \n",
    "K = 200                             # Latent factor 수 (잠재요인 수)\n",
    "mu = ratings_train.rating.mean()    # 전체 평균 \n",
    "M = ratings.user_id.max() + 1       # Number of users\n",
    "N = ratings.movie_id.max() + 1      # Number of movies\n",
    "\n",
    "# Defining RMSE measure\n",
    "def RMSE(y_true, y_pred):\n",
    "    return tf.sqrt(tf.reduce_mean(tf.square(y_true - y_pred)))"
   ]
  },
  {
   "cell_type": "code",
   "execution_count": 4,
   "id": "eeb6cf5e",
   "metadata": {},
   "outputs": [],
   "source": [
    "# Keras model\n",
    "user = Input(shape=(1, ))                                               # User input\n",
    "item = Input(shape=(1, ))                                               # Item input\n",
    "P_embedding = Embedding(M, K, embeddings_regularizer=l2())(user)        # (M, 1, K)\n",
    "Q_embedding = Embedding(N, K, embeddings_regularizer=l2())(item)        # (N, 1, K)\n",
    "user_bias = Embedding(M, 1, embeddings_regularizer=l2())(user)          # User bias term (M, 1, )\n",
    "item_bias = Embedding(N, 1, embeddings_regularizer=l2())(item)          # Item bias term (N, 1, )"
   ]
  },
  {
   "cell_type": "code",
   "execution_count": 5,
   "id": "5be9f615",
   "metadata": {},
   "outputs": [],
   "source": [
    "# Concatenate layers\n",
    "from tensorflow.keras.layers import Dense, Concatenate, Activation\n",
    "P_embedding = Flatten()(P_embedding)                                    # (K, )\n",
    "Q_embedding = Flatten()(Q_embedding)                                    # (K, )\n",
    "user_bias = Flatten()(user_bias)                                        # (1, )\n",
    "item_bias = Flatten()(item_bias)                                        # (1, )\n",
    "R = Concatenate()([P_embedding, Q_embedding, user_bias, item_bias])     # (2K + 2, )"
   ]
  },
  {
   "cell_type": "code",
   "execution_count": 6,
   "id": "90bbdac3",
   "metadata": {},
   "outputs": [],
   "source": [
    "# Neural network\n",
    "R = Dense(2048)(R) # 노드가 2048개인 dense layer 추가\n",
    "R = Activation('linear')(R) \n",
    "R = Dense(256)(R)  # 노드가 256개인 dense layer 추가\n",
    "R = Activation('linear')(R)\n",
    "R = Dense(1)(R)"
   ]
  },
  {
   "cell_type": "code",
   "execution_count": 7,
   "id": "6dc30a14",
   "metadata": {},
   "outputs": [
    {
     "name": "stdout",
     "output_type": "stream",
     "text": [
      "Model: \"model\"\n",
      "__________________________________________________________________________________________________\n",
      "Layer (type)                    Output Shape         Param #     Connected to                     \n",
      "==================================================================================================\n",
      "input_1 (InputLayer)            [(None, 1)]          0                                            \n",
      "__________________________________________________________________________________________________\n",
      "input_2 (InputLayer)            [(None, 1)]          0                                            \n",
      "__________________________________________________________________________________________________\n",
      "embedding (Embedding)           (None, 1, 200)       188800      input_1[0][0]                    \n",
      "__________________________________________________________________________________________________\n",
      "embedding_1 (Embedding)         (None, 1, 200)       336600      input_2[0][0]                    \n",
      "__________________________________________________________________________________________________\n",
      "embedding_2 (Embedding)         (None, 1, 1)         944         input_1[0][0]                    \n",
      "__________________________________________________________________________________________________\n",
      "embedding_3 (Embedding)         (None, 1, 1)         1683        input_2[0][0]                    \n",
      "__________________________________________________________________________________________________\n",
      "flatten (Flatten)               (None, 200)          0           embedding[0][0]                  \n",
      "__________________________________________________________________________________________________\n",
      "flatten_1 (Flatten)             (None, 200)          0           embedding_1[0][0]                \n",
      "__________________________________________________________________________________________________\n",
      "flatten_2 (Flatten)             (None, 1)            0           embedding_2[0][0]                \n",
      "__________________________________________________________________________________________________\n",
      "flatten_3 (Flatten)             (None, 1)            0           embedding_3[0][0]                \n",
      "__________________________________________________________________________________________________\n",
      "concatenate (Concatenate)       (None, 402)          0           flatten[0][0]                    \n",
      "                                                                 flatten_1[0][0]                  \n",
      "                                                                 flatten_2[0][0]                  \n",
      "                                                                 flatten_3[0][0]                  \n",
      "__________________________________________________________________________________________________\n",
      "dense (Dense)                   (None, 2048)         825344      concatenate[0][0]                \n",
      "__________________________________________________________________________________________________\n",
      "activation (Activation)         (None, 2048)         0           dense[0][0]                      \n",
      "__________________________________________________________________________________________________\n",
      "dense_1 (Dense)                 (None, 256)          524544      activation[0][0]                 \n",
      "__________________________________________________________________________________________________\n",
      "activation_1 (Activation)       (None, 256)          0           dense_1[0][0]                    \n",
      "__________________________________________________________________________________________________\n",
      "dense_2 (Dense)                 (None, 1)            257         activation_1[0][0]               \n",
      "==================================================================================================\n",
      "Total params: 1,878,172\n",
      "Trainable params: 1,878,172\n",
      "Non-trainable params: 0\n",
      "__________________________________________________________________________________________________\n"
     ]
    }
   ],
   "source": [
    "model = Model(inputs=[user, item], outputs=R)\n",
    "model.compile(\n",
    "  loss=RMSE,\n",
    "  optimizer=SGD(),\n",
    "  #optimizer=Adamax(),\n",
    "  metrics=[RMSE]\n",
    ")\n",
    "model.summary()"
   ]
  },
  {
   "cell_type": "code",
   "execution_count": 8,
   "id": "29ee7b5a",
   "metadata": {},
   "outputs": [
    {
     "name": "stdout",
     "output_type": "stream",
     "text": [
      "Train on 75000 samples, validate on 25000 samples\n",
      "Epoch 1/65\n"
     ]
    },
    {
     "name": "stderr",
     "output_type": "stream",
     "text": [
      "C:\\Users\\user\\anaconda3\\lib\\site-packages\\tensorflow_core\\python\\framework\\indexed_slices.py:424: UserWarning: Converting sparse IndexedSlices to a dense Tensor of unknown shape. This may consume a large amount of memory.\n",
      "  \"Converting sparse IndexedSlices to a dense Tensor of unknown shape. \"\n"
     ]
    },
    {
     "name": "stdout",
     "output_type": "stream",
     "text": [
      "\r",
      "  512/75000 [..............................] - ETA: 1:51 - loss: 5.6078 - RMSE: 1.2035"
     ]
    },
    {
     "name": "stderr",
     "output_type": "stream",
     "text": [
      "C:\\Users\\user\\anaconda3\\lib\\site-packages\\tensorflow_core\\python\\framework\\indexed_slices.py:424: UserWarning: Converting sparse IndexedSlices to a dense Tensor of unknown shape. This may consume a large amount of memory.\n",
      "  \"Converting sparse IndexedSlices to a dense Tensor of unknown shape. \"\n"
     ]
    },
    {
     "name": "stdout",
     "output_type": "stream",
     "text": [
      "75000/75000 [==============================] - 7s 88us/sample - loss: 5.4015 - RMSE: 1.1232 - val_loss: 5.2859 - val_RMSE: 1.1332\n",
      "Epoch 2/65\n",
      "75000/75000 [==============================] - 6s 79us/sample - loss: 5.1555 - RMSE: 1.1212 - val_loss: 5.0476 - val_RMSE: 1.1320\n",
      "Epoch 3/65\n",
      "75000/75000 [==============================] - 6s 84us/sample - loss: 4.9236 - RMSE: 1.1201 - val_loss: 4.8224 - val_RMSE: 1.1303\n",
      "Epoch 4/65\n",
      "75000/75000 [==============================] - 7s 89us/sample - loss: 4.7050 - RMSE: 1.1181 - val_loss: 4.6103 - val_RMSE: 1.1290\n",
      "Epoch 5/65\n",
      "75000/75000 [==============================] - 7s 88us/sample - loss: 4.4987 - RMSE: 1.1171 - val_loss: 4.4103 - val_RMSE: 1.1277\n",
      "Epoch 6/65\n",
      "75000/75000 [==============================] - 7s 99us/sample - loss: 4.3044 - RMSE: 1.1153 - val_loss: 4.2217 - val_RMSE: 1.1264\n",
      "Epoch 7/65\n",
      "75000/75000 [==============================] - 8s 100us/sample - loss: 4.1209 - RMSE: 1.1138 - val_loss: 4.0436 - val_RMSE: 1.1248\n",
      "Epoch 8/65\n",
      "75000/75000 [==============================] - 7s 99us/sample - loss: 3.9477 - RMSE: 1.1123 - val_loss: 3.8753 - val_RMSE: 1.1230\n",
      "Epoch 9/65\n",
      "75000/75000 [==============================] - 8s 106us/sample - loss: 3.7842 - RMSE: 1.1105 - val_loss: 3.7166 - val_RMSE: 1.1211\n",
      "Epoch 10/65\n",
      "75000/75000 [==============================] - 7s 97us/sample - loss: 3.6299 - RMSE: 1.1083 - val_loss: 3.5670 - val_RMSE: 1.1193\n",
      "Epoch 11/65\n",
      "75000/75000 [==============================] - 8s 101us/sample - loss: 3.4840 - RMSE: 1.1059 - val_loss: 3.4252 - val_RMSE: 1.1169\n",
      "Epoch 12/65\n",
      "75000/75000 [==============================] - 7s 98us/sample - loss: 3.3461 - RMSE: 1.1034 - val_loss: 3.2912 - val_RMSE: 1.1143\n",
      "Epoch 13/65\n",
      "75000/75000 [==============================] - 7s 97us/sample - loss: 3.2155 - RMSE: 1.1006 - val_loss: 3.1646 - val_RMSE: 1.1114\n",
      "Epoch 14/65\n",
      "75000/75000 [==============================] - 7s 97us/sample - loss: 3.0919 - RMSE: 1.0969 - val_loss: 3.0445 - val_RMSE: 1.1079\n",
      "Epoch 15/65\n",
      "75000/75000 [==============================] - 7s 96us/sample - loss: 2.9749 - RMSE: 1.0935 - val_loss: 2.9304 - val_RMSE: 1.1036\n",
      "Epoch 16/65\n",
      "75000/75000 [==============================] - 8s 111us/sample - loss: 2.8637 - RMSE: 1.0887 - val_loss: 2.8226 - val_RMSE: 1.0993\n",
      "Epoch 17/65\n",
      "75000/75000 [==============================] - 9s 115us/sample - loss: 2.7580 - RMSE: 1.0837 - val_loss: 2.7196 - val_RMSE: 1.0938\n",
      "Epoch 18/65\n",
      "75000/75000 [==============================] - 9s 118us/sample - loss: 2.6576 - RMSE: 1.0778 - val_loss: 2.6219 - val_RMSE: 1.0878\n",
      "Epoch 19/65\n",
      "75000/75000 [==============================] - 9s 116us/sample - loss: 2.5618 - RMSE: 1.0707 - val_loss: 2.5288 - val_RMSE: 1.0812\n",
      "Epoch 20/65\n",
      "75000/75000 [==============================] - 8s 109us/sample - loss: 2.4705 - RMSE: 1.0635 - val_loss: 2.4400 - val_RMSE: 1.0736\n",
      "Epoch 21/65\n",
      "75000/75000 [==============================] - 7s 98us/sample - loss: 2.3833 - RMSE: 1.0551 - val_loss: 2.3554 - val_RMSE: 1.0656\n",
      "Epoch 22/65\n",
      "75000/75000 [==============================] - 7s 99us/sample - loss: 2.3001 - RMSE: 1.0460 - val_loss: 2.2746 - val_RMSE: 1.0569\n",
      "Epoch 23/65\n",
      "75000/75000 [==============================] - 8s 103us/sample - loss: 2.2209 - RMSE: 1.0367 - val_loss: 2.1995 - val_RMSE: 1.0497\n",
      "Epoch 24/65\n",
      "75000/75000 [==============================] - 8s 109us/sample - loss: 2.1454 - RMSE: 1.0271 - val_loss: 2.1257 - val_RMSE: 1.0398\n",
      "Epoch 25/65\n",
      "75000/75000 [==============================] - 9s 114us/sample - loss: 2.0738 - RMSE: 1.0179 - val_loss: 2.0576 - val_RMSE: 1.0319\n",
      "Epoch 26/65\n",
      "75000/75000 [==============================] - 9s 117us/sample - loss: 2.0059 - RMSE: 1.0087 - val_loss: 1.9915 - val_RMSE: 1.0226\n",
      "Epoch 27/65\n",
      "75000/75000 [==============================] - 9s 120us/sample - loss: 1.9420 - RMSE: 0.9998 - val_loss: 1.9303 - val_RMSE: 1.0150\n",
      "Epoch 28/65\n",
      "75000/75000 [==============================] - 9s 119us/sample - loss: 1.8814 - RMSE: 0.9912 - val_loss: 1.8728 - val_RMSE: 1.0081\n",
      "Epoch 29/65\n",
      "75000/75000 [==============================] - 9s 120us/sample - loss: 1.8245 - RMSE: 0.9831 - val_loss: 1.8185 - val_RMSE: 1.0014\n",
      "Epoch 30/65\n",
      "75000/75000 [==============================] - 8s 111us/sample - loss: 1.7710 - RMSE: 0.9765 - val_loss: 1.7685 - val_RMSE: 0.9965\n",
      "Epoch 31/65\n",
      "75000/75000 [==============================] - 8s 105us/sample - loss: 1.7209 - RMSE: 0.9703 - val_loss: 1.7205 - val_RMSE: 0.9911\n",
      "Epoch 32/65\n",
      "75000/75000 [==============================] - 8s 107us/sample - loss: 1.6738 - RMSE: 0.9643 - val_loss: 1.6769 - val_RMSE: 0.9876\n",
      "Epoch 33/65\n",
      "75000/75000 [==============================] - 8s 111us/sample - loss: 1.6296 - RMSE: 0.9595 - val_loss: 1.6338 - val_RMSE: 0.9825\n",
      "Epoch 34/65\n",
      "75000/75000 [==============================] - 9s 121us/sample - loss: 1.5883 - RMSE: 0.9548 - val_loss: 1.5950 - val_RMSE: 0.9795\n",
      "Epoch 35/65\n",
      "75000/75000 [==============================] - 9s 120us/sample - loss: 1.5492 - RMSE: 0.9505 - val_loss: 1.5590 - val_RMSE: 0.9774\n",
      "Epoch 36/65\n",
      "75000/75000 [==============================] - 9s 118us/sample - loss: 1.5126 - RMSE: 0.9469 - val_loss: 1.5233 - val_RMSE: 0.9737\n",
      "Epoch 37/65\n",
      "75000/75000 [==============================] - 9s 119us/sample - loss: 1.4780 - RMSE: 0.9433 - val_loss: 1.4904 - val_RMSE: 0.9709\n",
      "Epoch 38/65\n",
      "75000/75000 [==============================] - 9s 120us/sample - loss: 1.4458 - RMSE: 0.9407 - val_loss: 1.4613 - val_RMSE: 0.9703\n",
      "Epoch 39/65\n",
      "75000/75000 [==============================] - 9s 119us/sample - loss: 1.4155 - RMSE: 0.9378 - val_loss: 1.4316 - val_RMSE: 0.9675\n",
      "Epoch 40/65\n",
      "75000/75000 [==============================] - 9s 121us/sample - loss: 1.3869 - RMSE: 0.9355 - val_loss: 1.4038 - val_RMSE: 0.9650\n",
      "Epoch 41/65\n",
      "75000/75000 [==============================] - 10s 131us/sample - loss: 1.3601 - RMSE: 0.9332 - val_loss: 1.3807 - val_RMSE: 0.9659\n",
      "Epoch 42/65\n",
      "75000/75000 [==============================] - 9s 123us/sample - loss: 1.3346 - RMSE: 0.9310 - val_loss: 1.3544 - val_RMSE: 0.9622\n",
      "Epoch 43/65\n",
      "75000/75000 [==============================] - 9s 121us/sample - loss: 1.3111 - RMSE: 0.9294 - val_loss: 1.3324 - val_RMSE: 0.9615\n",
      "Epoch 44/65\n",
      "75000/75000 [==============================] - 9s 119us/sample - loss: 1.2886 - RMSE: 0.9278 - val_loss: 1.3107 - val_RMSE: 0.9599\n",
      "Epoch 45/65\n",
      "75000/75000 [==============================] - 9s 119us/sample - loss: 1.2677 - RMSE: 0.9264 - val_loss: 1.2907 - val_RMSE: 0.9589\n",
      "Epoch 46/65\n",
      "75000/75000 [==============================] - 9s 120us/sample - loss: 1.2479 - RMSE: 0.9252 - val_loss: 1.2731 - val_RMSE: 0.9593\n",
      "Epoch 47/65\n",
      "75000/75000 [==============================] - 9s 116us/sample - loss: 1.2292 - RMSE: 0.9236 - val_loss: 1.2545 - val_RMSE: 0.9575\n",
      "Epoch 48/65\n",
      "75000/75000 [==============================] - 9s 120us/sample - loss: 1.2119 - RMSE: 0.9227 - val_loss: 1.2391 - val_RMSE: 0.9582\n",
      "Epoch 49/65\n",
      "75000/75000 [==============================] - 9s 119us/sample - loss: 1.1953 - RMSE: 0.9218 - val_loss: 1.2221 - val_RMSE: 0.9562\n",
      "Epoch 50/65\n",
      "75000/75000 [==============================] - 9s 118us/sample - loss: 1.1799 - RMSE: 0.9211 - val_loss: 1.2077 - val_RMSE: 0.9561\n",
      "Epoch 51/65\n",
      "75000/75000 [==============================] - 9s 119us/sample - loss: 1.1655 - RMSE: 0.9207 - val_loss: 1.1937 - val_RMSE: 0.9555\n",
      "Epoch 52/65\n",
      "75000/75000 [==============================] - 9s 117us/sample - loss: 1.1517 - RMSE: 0.9197 - val_loss: 1.1814 - val_RMSE: 0.9559\n",
      "Epoch 53/65\n",
      "75000/75000 [==============================] - 9s 118us/sample - loss: 1.1388 - RMSE: 0.9192 - val_loss: 1.1677 - val_RMSE: 0.9542\n",
      "Epoch 54/65\n",
      "75000/75000 [==============================] - 9s 121us/sample - loss: 1.1265 - RMSE: 0.9186 - val_loss: 1.1569 - val_RMSE: 0.9547\n",
      "Epoch 55/65\n",
      "75000/75000 [==============================] - 9s 119us/sample - loss: 1.1149 - RMSE: 0.9184 - val_loss: 1.1466 - val_RMSE: 0.9551\n",
      "Epoch 56/65\n",
      "75000/75000 [==============================] - 9s 118us/sample - loss: 1.1043 - RMSE: 0.9179 - val_loss: 1.1348 - val_RMSE: 0.9534\n",
      "Epoch 57/65\n",
      "75000/75000 [==============================] - 9s 119us/sample - loss: 1.0938 - RMSE: 0.9173 - val_loss: 1.1251 - val_RMSE: 0.9532\n",
      "Epoch 58/65\n"
     ]
    },
    {
     "name": "stdout",
     "output_type": "stream",
     "text": [
      "75000/75000 [==============================] - 9s 116us/sample - loss: 1.0847 - RMSE: 0.9175 - val_loss: 1.1161 - val_RMSE: 0.9532\n",
      "Epoch 59/65\n",
      "75000/75000 [==============================] - 9s 114us/sample - loss: 1.0755 - RMSE: 0.9165 - val_loss: 1.1077 - val_RMSE: 0.9533\n",
      "Epoch 60/65\n",
      "75000/75000 [==============================] - 9s 121us/sample - loss: 1.0672 - RMSE: 0.9168 - val_loss: 1.1013 - val_RMSE: 0.9550\n",
      "Epoch 61/65\n",
      "75000/75000 [==============================] - 9s 118us/sample - loss: 1.0590 - RMSE: 0.9164 - val_loss: 1.0915 - val_RMSE: 0.9527\n",
      "Epoch 62/65\n",
      "75000/75000 [==============================] - 9s 116us/sample - loss: 1.0514 - RMSE: 0.9161 - val_loss: 1.0863 - val_RMSE: 0.9546\n",
      "Epoch 63/65\n",
      "75000/75000 [==============================] - 9s 115us/sample - loss: 1.0442 - RMSE: 0.9157 - val_loss: 1.0773 - val_RMSE: 0.9524\n",
      "Epoch 64/65\n",
      "75000/75000 [==============================] - 9s 116us/sample - loss: 1.0378 - RMSE: 0.9161 - val_loss: 1.0714 - val_RMSE: 0.9528\n",
      "Epoch 65/65\n",
      "75000/75000 [==============================] - 9s 115us/sample - loss: 1.0315 - RMSE: 0.9159 - val_loss: 1.0649 - val_RMSE: 0.9523\n"
     ]
    }
   ],
   "source": [
    "# Model fitting\n",
    "result = model.fit(\n",
    "  x=[ratings_train.user_id.values, ratings_train.movie_id.values],\n",
    "  y=ratings_train.rating.values - mu,\n",
    "  epochs=65,\n",
    "  batch_size=512,\n",
    "  validation_data=(\n",
    "    [ratings_test.user_id.values, ratings_test.movie_id.values],\n",
    "    ratings_test.rating.values - mu\n",
    "  )\n",
    ")"
   ]
  },
  {
   "cell_type": "code",
   "execution_count": 9,
   "id": "ba445728",
   "metadata": {},
   "outputs": [
    {
     "data": {
      "image/png": "[encoded data removed]",
      "text/plain": [
       "<Figure size 432x288 with 1 Axes>"
      ]
     },
     "metadata": {
      "needs_background": "light"
     },
     "output_type": "display_data"
    }
   ],
   "source": [
    "# Plot RMSE\n",
    "import matplotlib.pyplot as plt\n",
    "plt.plot(result.history['RMSE'], label=\"Train RMSE\")\n",
    "plt.plot(result.history['val_RMSE'], label=\"Test RMSE\")\n",
    "plt.xlabel('epoch')\n",
    "plt.ylabel('RMSE')\n",
    "plt.legend()\n",
    "plt.show()"
   ]
  },
  {
   "cell_type": "code",
   "execution_count": 10,
   "id": "b555cada",
   "metadata": {},
   "outputs": [
    {
     "name": "stdout",
     "output_type": "stream",
     "text": [
      "Actuals: \n",
      "        user_id  movie_id  rating\n",
      "6255        41       313       3\n",
      "27473      377        98       5\n",
      "47489      659       393       3\n",
      "62158      889       654       3\n",
      "24063      472       195       5\n",
      "29045      534       117       5\n",
      "\n",
      "Predictions: \n",
      " [[4.197077 ]\n",
      " [4.6141233]\n",
      " [3.516865 ]\n",
      " [3.9705737]\n",
      " [4.797143 ]\n",
      " [4.441509 ]]\n"
     ]
    }
   ],
   "source": [
    "# Prediction\n",
    "user_ids = ratings_test.user_id.values[0:6]\n",
    "movie_ids = ratings_test.movie_id.values[0:6]\n",
    "predictions = model.predict([user_ids, movie_ids]) + mu\n",
    "print(\"Actuals: \\n\", ratings_test[0:6])\n",
    "print()\n",
    "print(\"Predictions: \\n\", predictions)"
   ]
  },
  {
   "cell_type": "code",
   "execution_count": 11,
   "id": "a5e0c838",
   "metadata": {},
   "outputs": [
    {
     "data": {
      "text/plain": [
       "0.9527972545552432"
      ]
     },
     "execution_count": 11,
     "metadata": {},
     "output_type": "execute_result"
    }
   ],
   "source": [
    "# 정확도(RMSE)를 계산하는 함수 \n",
    "def RMSE2(y_true, y_pred):\n",
    "    return np.sqrt(np.mean((np.array(y_true) - np.array(y_pred))**2))\n",
    "\n",
    "user_ids = ratings_test.user_id.values\n",
    "movie_ids = ratings_test.movie_id.values\n",
    "y_pred = model.predict([user_ids, movie_ids]) + mu\n",
    "y_pred = np.ravel(y_pred, order='C')\n",
    "y_true = np.array(ratings_test.rating)\n",
    "\n",
    "RMSE2(y_true, y_pred)\n"
   ]
  }
 ],
 "metadata": {
  "kernelspec": {
   "display_name": "Python 3",
   "language": "python",
   "name": "python3"
  },
  "language_info": {
   "codemirror_mode": {
    "name": "ipython",
    "version": 3
   },
   "file_extension": ".py",
   "mimetype": "text/x-python",
   "name": "python",
   "nbconvert_exporter": "python",
   "pygments_lexer": "ipython3",
   "version": "3.7.7"
  }
 },
 "nbformat": 4,
 "nbformat_minor": 5
}
