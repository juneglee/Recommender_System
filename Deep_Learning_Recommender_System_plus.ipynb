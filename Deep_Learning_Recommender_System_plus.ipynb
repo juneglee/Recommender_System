{
 "cells": [
  {
   "cell_type": "markdown",
   "id": "a0eaf16a",
   "metadata": {},
   "source": [
    "# 딥러닝을 적용한 추천 시스템\n",
    "- 딥러닝을 어떻게 추천에 적용할 수 있는지 생각해 보면, 우선 추천을 위한 입력으로 사용자와 아이템의 특성을 나타낼 수 있는 embedding 데이터가 필요하다. 사용자와 아이템을 embidding해서 입력으로 넣으면 사용자와 아이템 간의 특성을 학습해서 추천(예측)에 이용할 수 있다."
   ]
  },
  {
   "cell_type": "markdown",
   "id": "54ded397",
   "metadata": {},
   "source": [
    "- 이와 같이 One-hot representation 으로 변환하고 (input layer), 이를 잠재요인(Embedding Layer)으로 연결시킨다. 그러면 사용자 잠재요인(User latent Vector)과 아이템 잠재요인 (Item Latent vector)이 만들어지는데, 이둘을 합쳐서 신경망의 첫번째 층인 레이어 1이 만들어진다. 사용자 잠재요인과 아이템 잠죠요인을 합치는 가장 단순한 방법은 인공신경망에서 사용되는 결합(concatenate)을 이용해서 앞뒤로 그래도 붙이는 방법이다. 일단 첫 번째 층이 만들어지면, 그 다음부터는 일반적인 DL에서와 같이 적절한 층을 쌓아나가면 된다. 맨 끝(위)에는 출력으로 예측하고자 하는 평점이 놓이기 된다. "
   ]
  },
  {
   "cell_type": "code",
   "execution_count": null,
   "id": "d591324b",
   "metadata": {},
   "outputs": [],
   "source": [
    "import pandas as pd\n",
    "import numpy as np\n",
    "\n",
    "from sklearn.utils import shuffle\n",
    "\n",
    "import tensorflow as tf\n",
    "from tensorflow.keras import layers\n",
    "from tensorflow.keras.models import Model\n",
    "from tensorflow.keras.layers import Input, Embedding, Dot, Add, Flatten\n",
    "from tensorflow.keras.regularizers import l2\n",
    "from tensorflow.keras.optimizers import SGD, Adam, Adamax\n",
    "from tensorflow.keras.layers import Dense, Concatenate, Activation"
   ]
  },
  {
   "cell_type": "code",
   "execution_count": null,
   "id": "5482ba34",
   "metadata": {},
   "outputs": [],
   "source": [
    "# csv 파일에서 불러오기\n",
    "r_cols = ['user_id', 'movie_id', 'rating', 'timestamp']\n",
    "ratings = pd.read_csv('data/u.data', names=r_cols,  sep='\\t',encoding='latin-1')\n",
    "ratings = ratings[['user_id', 'movie_id', 'rating']].astype(int)\n",
    "\n",
    "# train test 분리\n",
    "TRAIN_SIZE = 0.75\n",
    "ratings = shuffle(ratings)\n",
    "cutoff = int(TRAIN_SIZE * len(ratings))\n",
    "ratings_train = ratings.iloc[:cutoff]\n",
    "ratings_test = ratings.iloc[cutoff:]\n",
    "\n",
    "u_cols = ['user_id', 'age', 'sex', 'occupation', 'zip_code']\n",
    "users = pd.read_csv('data/u.data', sep='|', names=u_cols, encoding='latin-1')\n",
    "users = users[['user_id', 'occupation']]"
   ]
  },
  {
   "cell_type": "code",
   "execution_count": null,
   "id": "afc5a9e6",
   "metadata": {},
   "outputs": [],
   "source": [
    "# Convert occupation(string to integer)\n",
    "occupation = {}\n",
    "def convert_occ(x):\n",
    "    if x in occupation:\n",
    "        return occupation[x]\n",
    "    else:\n",
    "        occupation[x] = len(occupation)\n",
    "        return occupation[x]\n",
    "users['occupation'] = users['occupation'].apply(convert_occ)"
   ]
  },
  {
   "cell_type": "code",
   "execution_count": null,
   "id": "cc6bf503",
   "metadata": {},
   "outputs": [],
   "source": [
    "L = len(occupation)\n",
    "train_occ = pd.merge(ratings_train, users, on='user_id')['occupation']\n",
    "test_occ = pd.merge(ratings_test, users, on='user_id')['occupation']"
   ]
  },
  {
   "cell_type": "code",
   "execution_count": null,
   "id": "eac5ccae",
   "metadata": {},
   "outputs": [],
   "source": [
    "# Variable 초기화 \n",
    "K = 200                             # Latent factor 수 (잠재요인 수)\n",
    "mu = ratings_train.rating.mean()    # 전체 평균 \n",
    "M = ratings.user_id.max() + 1       # Number of users\n",
    "N = ratings.movie_id.max() + 1      # Number of movies\n",
    "\n",
    "# Defining RMSE measure\n",
    "def RMSE(y_true, y_pred):\n",
    "    return tf.sqrt(tf.reduce_mean(tf.square(y_true - y_pred)))"
   ]
  },
  {
   "cell_type": "code",
   "execution_count": null,
   "id": "eeb6cf5e",
   "metadata": {},
   "outputs": [],
   "source": [
    "# Keras model\n",
    "user = Input(shape=(1, ))                                               # User input\n",
    "item = Input(shape=(1, ))                                               # Item input\n",
    "P_embedding = Embedding(M, K, embeddings_regularizer=l2())(user)        # (M, 1, K)\n",
    "Q_embedding = Embedding(N, K, embeddings_regularizer=l2())(item)        # (N, 1, K)\n",
    "user_bias = Embedding(M, 1, embeddings_regularizer=l2())(user)          # User bias term (M, 1, )\n",
    "item_bias = Embedding(N, 1, embeddings_regularizer=l2())(item)          # Item bias term (N, 1, )"
   ]
  },
  {
   "cell_type": "code",
   "execution_count": null,
   "id": "5be9f615",
   "metadata": {},
   "outputs": [],
   "source": [
    "# Concatenate layers\n",
    "P_embedding = Flatten()(P_embedding)\n",
    "Q_embedding = Flatten()(Q_embedding)\n",
    "user_bias = Flatten()(user_bias)\n",
    "item_bias = Flatten()(item_bias)\n",
    "\n",
    "occ = Input(shape=(1, ))\n",
    "occ_embedding = Embedding(L, 3, embeddings_regularizer=l2())(occ)\n",
    "occ_layer = Flatten()(occ_embedding)\n",
    "R = Concatenate()([P_embedding, Q_embedding, user_bias, item_bias, occ_layer])"
   ]
  },
  {
   "cell_type": "code",
   "execution_count": null,
   "id": "90bbdac3",
   "metadata": {},
   "outputs": [],
   "source": [
    "# Neural network\n",
    "R = Dense(2048)(R) # 노드가 2048개인 dense layer 추가\n",
    "R = Activation('linear')(R) \n",
    "R = Dense(256)(R)  # 노드가 256개인 dense layer 추가\n",
    "R = Activation('linear')(R)\n",
    "R = Dense(1)(R)"
   ]
  },
  {
   "cell_type": "code",
   "execution_count": null,
   "id": "6dc30a14",
   "metadata": {},
   "outputs": [],
   "source": [
    "model = Model(inputs=[user, item, occ], outputs=R)\n",
    "model.compile(\n",
    "  loss=RMSE,\n",
    "  optimizer=SGD(),\n",
    "  #optimizer=Adamax(),\n",
    "  metrics=[RMSE]\n",
    ")\n",
    "model.summary()"
   ]
  },
  {
   "cell_type": "code",
   "execution_count": null,
   "id": "29ee7b5a",
   "metadata": {},
   "outputs": [],
   "source": [
    "# Model fitting\n",
    "result = model.fit(\n",
    "  x=[ratings_train.user_id.values, ratings_train.movie_id.values],\n",
    "  y=ratings_train.rating.values - mu,\n",
    "  epochs=65,\n",
    "  batch_size=512,\n",
    "  validation_data=(\n",
    "    [ratings_test.user_id.values, ratings_test.movie_id.values],\n",
    "    ratings_test.rating.values - mu\n",
    "  )\n",
    ")"
   ]
  },
  {
   "cell_type": "code",
   "execution_count": null,
   "id": "ba445728",
   "metadata": {},
   "outputs": [],
   "source": [
    "# Plot RMSE\n",
    "import matplotlib.pyplot as plt\n",
    "plt.plot(result.history['RMSE'], label=\"Train RMSE\")\n",
    "plt.plot(result.history['val_RMSE'], label=\"Test RMSE\")\n",
    "plt.xlabel('epoch')\n",
    "plt.ylabel('RMSE')\n",
    "plt.legend()\n",
    "plt.show()"
   ]
  },
  {
   "cell_type": "code",
   "execution_count": null,
   "id": "b555cada",
   "metadata": {},
   "outputs": [],
   "source": [
    "# Prediction\n",
    "user_ids = ratings_test.user_id.values[0:6]\n",
    "movie_ids = ratings_test.movie_id.values[0:6]\n",
    "predictions = model.predict([user_ids, movie_ids]) + mu\n",
    "print(\"Actuals: \\n\", ratings_test[0:6])\n",
    "print()\n",
    "print(\"Predictions: \\n\", predictions)"
   ]
  },
  {
   "cell_type": "code",
   "execution_count": null,
   "id": "a5e0c838",
   "metadata": {},
   "outputs": [],
   "source": [
    "# 정확도(RMSE)를 계산하는 함수 \n",
    "def RMSE2(y_true, y_pred):\n",
    "    return np.sqrt(np.mean((np.array(y_true) - np.array(y_pred))**2))\n",
    "\n",
    "user_ids = ratings_test.user_id.values\n",
    "movie_ids = ratings_test.movie_id.values\n",
    "y_pred = model.predict([user_ids, movie_ids]) + mu\n",
    "y_pred = np.ravel(y_pred, order='C')\n",
    "y_true = np.array(ratings_test.rating)\n",
    "\n",
    "RMSE2(y_true, y_pred)"
   ]
  }
 ],
 "metadata": {
  "kernelspec": {
   "display_name": "Python 3",
   "language": "python",
   "name": "python3"
  },
  "language_info": {
   "codemirror_mode": {
    "name": "ipython",
    "version": 3
   },
   "file_extension": ".py",
   "mimetype": "text/x-python",
   "name": "python",
   "nbconvert_exporter": "python",
   "pygments_lexer": "ipython3",
   "version": "3.7.7"
  }
 },
 "nbformat": 4,
 "nbformat_minor": 5
}
