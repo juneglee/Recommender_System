{
 "cells": [
  {
   "cell_type": "markdown",
   "metadata": {},
   "source": [
    "# 사용자 기반 CF와 아이템 기반 CF \n",
    "\n",
    "- CF 추천 알고리즘은 사용자를 기준으로 비슷한 취향의 이웃을 선정하는 방식을 사용하였다. 이런 방식을 사용자 기반 CF(User-Based CF: UBCF)라고 부르며, 반대로 아이템을 기준으로 하는 아이템 기반 CF(Item-Based CF: IBCF)도 가능하다 \n",
    "- 이 둘의 차이는 유사도를 계산하는 기준이 사용자인가 아이템인가 하는 것이다 \n",
    "- UBCF는 취향이 비슷한 이웃 사용자(neighbor)를 알아내고, 이 그룹에 속한 사용자들이 공통적으로 좋게 평가한 아이템을 추천하는 방식\n",
    "- IBCF는 반대로 사용자들의 평가 패턴을 바탕으로 아이템 간의 유사도를 계산해서 아용자의 특정 아이템에 대한 예측 평점을 계산하는 방식이다. 좀더 구체적으로는 에측 대상 사용자가 평가한 아이템의 평점과, 다른 각 아이템과의 유사도를 가중해서 평균한 값을 그 아이템에 대한 에측값으로 사용 한다"
   ]
  },
  {
   "cell_type": "markdown",
   "metadata": {},
   "source": [
    "- 이 두가지 방식은 장단점이 있다. 우선 UBCF는 각 사용자별로 맞춤형 추천을 하기 때문에 데이터가 풍부한 경우 정확한 추천이 가능하다. 반대로 IBCF는 정확도는 떨어지지만 사용자별로 따로따로 게산을 하지 않기 때문에 계산이 빠르다는 장점이 있다. 그리고 UBCF는 정확할 때는 매우 정확하지만 터무니 없는 추천을 하는 경우도 상당히 있는 데 비해 IBCF는 그럴 위험이 적다. 또한 UBCF는 데이터가 조금 바뀔 때마다 업데이트를 해야 하지만 IBCF는 데이터가 조금 바뀌어도 추천 결과에는 영향이 크지 않기 때문에 업데이트를 자주 하지 않아도 된다"
   ]
  },
  {
   "cell_type": "markdown",
   "metadata": {},
   "source": [
    "- 종합하자면 데이터 크기가 적고 각 사용자에 대한 충분한 정보(구매나 평가)가 있는 경우에는 UBCF가 알맞고\n",
    "- 데이터가 크거나 각 사용자에 대한 충분한 정보가 없는 경우에는 IBCF가 알맞다고 할 수 있다 \n"
   ]
  },
  {
   "cell_type": "markdown",
   "metadata": {},
   "source": [
    "- 데이터가 충분하다면 UBCF가 IBCF보다 다수 정확하다고 알려져 있다. 대신에 IBCF가 계산이 빠르기 때문에 아마존과 같은 대규모 데이터를 다뤄야 하는 상업용 사이트에서는 IBCF에 기반한 알고리즘이 사용되는 것으로 알려져 있다 "
   ]
  },
  {
   "cell_type": "code",
   "execution_count": 1,
   "metadata": {},
   "outputs": [],
   "source": [
    "import numpy as np\n",
    "import pandas as pd\n",
    "\n",
    "from sklearn.model_selection import train_test_split\n",
    "from sklearn.metrics.pairwise import cosine_similarity"
   ]
  },
  {
   "cell_type": "code",
   "execution_count": 2,
   "metadata": {},
   "outputs": [],
   "source": [
    "# 데이터 읽어 오기 \n",
    "u_cols = ['user_id', 'age', 'sex', 'occupation', 'zip_code']\n",
    "users = pd.read_csv('./data/u.user', sep='|', names=u_cols, encoding='latin-1')\n",
    "i_cols = ['movie_id', 'title', 'release date', 'video release date', 'IMDB URL', 'unknown', \n",
    "          'Action', 'Adventure', 'Animation', 'Children\\'s', 'Comedy', 'Crime', 'Documentary', \n",
    "          'Drama', 'Fantasy', 'Film-Noir', 'Horror', 'Musical', 'Mystery', 'Romance', 'Sci-Fi', \n",
    "          'Thriller', 'War', 'Western']\n",
    "movies = pd.read_csv('./data/u.item', sep='|', names=i_cols, encoding='latin-1')\n",
    "r_cols = ['user_id', 'movie_id', 'rating', 'timestamp']\n",
    "ratings = pd.read_csv('./data/u.data', sep='\\t', names=r_cols, encoding='latin-1')\n",
    "\n",
    "# timestamp 제거 \n",
    "ratings = ratings.drop('timestamp', axis=1)\n",
    "# movie ID와 title 빼고 다른 데이터 제거\n",
    "movies = movies[['movie_id', 'title']]\n",
    "\n",
    "# train, test 데이터 분리\n",
    "x = ratings.copy()\n",
    "y = ratings['user_id']\n",
    "x_train, x_test, y_train, y_test = train_test_split(x, y, test_size=0.25, stratify=y)\n",
    "\n",
    "# 정확도(RMSE)를 계산하는 함수 \n",
    "def RMSE(y_true, y_pred):\n",
    "    return np.sqrt(np.mean((np.array(y_true) - np.array(y_pred))**2))\n",
    "\n",
    "# 모델별 RMSE를 계산하는 함수 \n",
    "def score(model):\n",
    "    id_pairs = zip(x_test['user_id'], x_test['movie_id'])\n",
    "    y_pred = np.array([model(user, movie) for (user, movie) in id_pairs])\n",
    "    y_true = np.array(x_test['rating'])\n",
    "    return RMSE(y_true, y_pred)\n",
    "\n",
    "# train 데이터로 Full matrix 구하기 \n",
    "rating_matrix = x_train.pivot(index='user_id', columns='movie_id', values='rating')"
   ]
  },
  {
   "cell_type": "markdown",
   "metadata": {},
   "source": [
    "### 아이템 기반 CF(Item-Based CF: IBCF)"
   ]
  },
  {
   "cell_type": "code",
   "execution_count": 3,
   "metadata": {},
   "outputs": [],
   "source": [
    "rating_matrix_t = np.transpose(rating_matrix) # 아이템 간 유사도를 계산해야 하기 때문에 rating_matrix를 전치(transpose)시켜야 한다 \n",
    "matrix_dummy = rating_matrix_t.copy().fillna(0) # 원래 데이터를 복사하면서 NaN을 0으로 바꾼다"
   ]
  },
  {
   "cell_type": "code",
   "execution_count": 4,
   "metadata": {},
   "outputs": [],
   "source": [
    "item_similarity = cosine_similarity(matrix_dummy, matrix_dummy) # 아이템 코사인 유사도\n",
    "item_similarity = pd.DataFrame(item_similarity, index=rating_matrix_t.index, columns=rating_matrix_t.index) # DataFrame으로 변경"
   ]
  },
  {
   "cell_type": "code",
   "execution_count": 5,
   "metadata": {},
   "outputs": [],
   "source": [
    "# 주어진 영화의 (movie_id) 가중평균 rating을 계산하는 함수, \n",
    "# 가중치는 주어진 아이템과 다른 아이템 간의 유사도(item_similarity)\n",
    "def CF_IBCF(user_id, movie_id):\n",
    "    if movie_id in item_similarity:      # 현재 영화가 train set에 있는지 확인\n",
    "        sim_scores = item_similarity[movie_id]         # 현재 영화와 다른 영화의 similarity 값 가져오기       \n",
    "        user_rating = rating_matrix_t[user_id] # 현 사용자의 모든 rating 값 가져오기\n",
    "        non_rating_idx = user_rating[user_rating.isnull()].index # 사용자가 평가하지 않은 영화 index 가져오기\n",
    "        user_rating = user_rating.dropna() # 사용자가 평가하지 않은 영화 제거\n",
    "        sim_scores = sim_scores.drop(non_rating_idx) # 사용자가 평가하지 않은 영화의 similarity 값 제거\n",
    "        # 현 영화에 대한 예상 rating 계산, 가중치는 현 영화와 사용자가 평가한 영화의 유사도\n",
    "        mean_rating = np.dot(sim_scores, user_rating) / sim_scores.sum()\n",
    "    else:\n",
    "        mean_rating = 3.0\n",
    "    return mean_rating"
   ]
  },
  {
   "cell_type": "code",
   "execution_count": 6,
   "metadata": {},
   "outputs": [
    {
     "data": {
      "text/plain": [
       "1.0125395619113131"
      ]
     },
     "execution_count": 6,
     "metadata": {},
     "output_type": "execute_result"
    }
   ],
   "source": [
    "# 정확도 계산\n",
    "score(CF_IBCF)"
   ]
  }
 ],
 "metadata": {
  "kernelspec": {
   "display_name": "Python 3",
   "language": "python",
   "name": "python3"
  },
  "language_info": {
   "codemirror_mode": {
    "name": "ipython",
    "version": 3
   },
   "file_extension": ".py",
   "mimetype": "text/x-python",
   "name": "python",
   "nbconvert_exporter": "python",
   "pygments_lexer": "ipython3",
   "version": "3.7.7"
  }
 },
 "nbformat": 4,
 "nbformat_minor": 4
}
