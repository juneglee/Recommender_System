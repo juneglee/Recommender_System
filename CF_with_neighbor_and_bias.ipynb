{
 "cells": [
  {
   "cell_type": "markdown",
   "metadata": {},
   "source": [
    "# 사용자의 평가경향을 고려한 CF\n",
    "\n",
    "- 사용자의 평가 경향을 고려해서 예측치를 조정한다면 정확도가 개선될 것이라고 예상된다. "
   ]
  },
  {
   "cell_type": "code",
   "execution_count": 1,
   "metadata": {},
   "outputs": [],
   "source": [
    "import numpy as np\n",
    "import pandas as pd\n",
    "\n",
    "from sklearn.metrics.pairwise import cosine_similarity"
   ]
  },
  {
   "cell_type": "code",
   "execution_count": 2,
   "metadata": {},
   "outputs": [],
   "source": [
    "# 데이터 읽어 오기 \n",
    "u_cols = ['user_id', 'age', 'sex', 'occupation', 'zip_code']\n",
    "users = pd.read_csv('./data/u.user', sep='|', names=u_cols, encoding='latin-1')\n",
    "i_cols = ['movie_id', 'title', 'release date', 'video release date', 'IMDB URL', 'unknown', \n",
    "          'Action', 'Adventure', 'Animation', 'Children\\'s', 'Comedy', 'Crime', 'Documentary', \n",
    "          'Drama', 'Fantasy', 'Film-Noir', 'Horror', 'Musical', 'Mystery', 'Romance', 'Sci-Fi', \n",
    "          'Thriller', 'War', 'Western']\n",
    "movies = pd.read_csv('./data/u.item', sep='|', names=i_cols, encoding='latin-1')\n",
    "r_cols = ['user_id', 'movie_id', 'rating', 'timestamp']\n",
    "ratings = pd.read_csv('./data/u.data', sep='\\t', names=r_cols, encoding='latin-1')\n",
    "\n",
    "# timestamp 제거 \n",
    "ratings = ratings.drop('timestamp', axis=1)\n",
    "# movie ID와 title 빼고 다른 데이터 제거\n",
    "movies = movies[['movie_id', 'title']]\n",
    "\n",
    "# train, test 데이터 분리\n",
    "from sklearn.model_selection import train_test_split\n",
    "x = ratings.copy()\n",
    "y = ratings['user_id']\n",
    "x_train, x_test, y_train, y_test = train_test_split(x, y, test_size=0.25, stratify=y)\n",
    "\n",
    "# 정확도(RMSE)를 계산하는 함수 \n",
    "def RMSE(y_true, y_pred):\n",
    "    return np.sqrt(np.mean((np.array(y_true) - np.array(y_pred))**2))\n",
    "\n",
    "# 모델별 RMSE를 계산하는 함수 \n",
    "def score(model, neighbor_size=0):\n",
    "    id_pairs = zip(x_test['user_id'], x_test['movie_id'])\n",
    "    y_pred = np.array([model(user, movie, neighbor_size) for (user, movie) in id_pairs]) # change\n",
    "    y_true = np.array(x_test['rating'])\n",
    "    return RMSE(y_true, y_pred)\n",
    "\n",
    "# train 데이터로 Full matrix 구하기 \n",
    "rating_matrix = x_train.pivot(index='user_id', columns='movie_id', values='rating')"
   ]
  },
  {
   "cell_type": "code",
   "execution_count": 3,
   "metadata": {},
   "outputs": [],
   "source": [
    "# train set 사용자들의 Cosine similarities 계산\n",
    "matrix_dummy = rating_matrix.copy().fillna(0)\n",
    "user_similarity = cosine_similarity(matrix_dummy, matrix_dummy)\n",
    "user_similarity = pd.DataFrame(user_similarity, index=rating_matrix.index, columns=rating_matrix.index)"
   ]
  },
  {
   "cell_type": "markdown",
   "metadata": {},
   "source": [
    "### train 데이터의 user의 rating 평균과 영화의 평점편차 계산 "
   ]
  },
  {
   "cell_type": "code",
   "execution_count": 4,
   "metadata": {},
   "outputs": [],
   "source": [
    "rating_mean = rating_matrix.mean(axis=1) # full matrix에서 각 사용자의 평점 평균\n",
    "rating_bias = (rating_matrix.T - rating_mean).T # 영화 평점과 각 사용자의 평균과의 차이를 구한다 "
   ]
  },
  {
   "cell_type": "markdown",
   "metadata": {},
   "source": [
    "###  CF 알고리즘 (사용자의 평가 경향 고려)"
   ]
  },
  {
   "cell_type": "code",
   "execution_count": 6,
   "metadata": {},
   "outputs": [
    {
     "data": {
      "text/plain": [
       "0.9434787597186768"
      ]
     },
     "execution_count": 6,
     "metadata": {},
     "output_type": "execute_result"
    }
   ],
   "source": [
    "def CF_knn_bias(user_id, movie_id, neighbor_size=0):\n",
    "    if movie_id in rating_bias: # change\n",
    "        sim_scores = user_similarity[user_id].copy() \n",
    "        movie_ratings = rating_bias[movie_id].copy() # change\n",
    "        none_rating_idx = movie_ratings[movie_ratings.isnull()].index \n",
    "        movie_ratings = movie_ratings.drop(none_rating_idx)\n",
    "        sim_scores = sim_scores.drop(none_rating_idx) \n",
    "        if neighbor_size == 0:          \n",
    "            mean_rating = np.dot(sim_scores, movie_ratings) / sim_scores.sum() \n",
    "        else:                       \n",
    "            if len(sim_scores) > 1: \n",
    "                neighbor_size = min(neighbor_size, len(sim_scores)) \n",
    "                sim_scores = np.array(sim_scores) \n",
    "                movie_ratings = np.array(movie_ratings)\n",
    "                user_idx = np.argsort(sim_scores) \n",
    "                sim_scores = sim_scores[user_idx][-neighbor_size:] \n",
    "                movie_ratings = movie_ratings[user_idx][-neighbor_size:] \n",
    "                # 편차로 예측치 계산\n",
    "                prediction = np.dot(sim_scores, movie_ratings) / sim_scores.sum() # change\n",
    "                # 예측값에 현 사용자의 평균 더하기\n",
    "                prediction = prediction + rating_mean[user_id]  # change\n",
    "            else:\n",
    "                prediction = rating_mean[user_id]  # change\n",
    "    else:\n",
    "        prediction = rating_mean[user_id] # change\n",
    "    return prediction  # change\n",
    "\n",
    "# 정확도 계산\n",
    "score(CF_knn_bias, neighbor_size=30)"
   ]
  },
  {
   "cell_type": "markdown",
   "metadata": {},
   "source": [
    "### 주어진 사용자에 대해 추천을 받기"
   ]
  },
  {
   "cell_type": "code",
   "execution_count": 7,
   "metadata": {},
   "outputs": [
    {
     "data": {
      "text/plain": [
       "movie_id\n",
       "1628                    Nico Icon (1995)\n",
       "1293    Ayn Rand: A Sense of Life (1997)\n",
       "1449              Golden Earrings (1947)\n",
       "1639              Eighth Day, The (1996)\n",
       "1398        Stranger in the House (1997)\n",
       "Name: title, dtype: object"
      ]
     },
     "execution_count": 7,
     "metadata": {},
     "output_type": "execute_result"
    }
   ],
   "source": [
    "rating_matrix = ratings.pivot_table(values='rating', index='user_id', columns='movie_id')\n",
    "\n",
    "matrix_dummy = rating_matrix.copy().fillna(0)\n",
    "user_similarity = cosine_similarity(matrix_dummy, matrix_dummy)\n",
    "user_similarity = pd.DataFrame(user_similarity, index=rating_matrix.index, columns=rating_matrix.index)\n",
    "\n",
    "def recom_movie(user_id, n_items, neighbor_size=30):\n",
    "    user_movie = rating_bias.loc[user_id].copy() # change\n",
    "    for movie in rating_bias: # change\n",
    "        # 현 사용자가 이미 평가한 영화는 제외 (평점을 0으로)        \n",
    "        if pd.notnull(user_movie.loc[movie]):\n",
    "            user_movie.loc[movie] = 0\n",
    "        # 현 사용자가 평가하지 않은 영화의 예상 평점 계산\n",
    "        else:\n",
    "            user_movie.loc[movie] = CF_knn_bias(user_id, movie, neighbor_size)\n",
    "    # 영화를 예상 평점에 따라 정렬해서 제목을 뽑아서 돌려 줌\n",
    "    movie_sort = user_movie.sort_values(ascending=False)[:n_items] # 내림차순으로 상위의 영화를 추천 \n",
    "    recom_movies = movies.loc[movie_sort.index]\n",
    "    recommendations = recom_movies['title']\n",
    "    return recommendations\n",
    "\n",
    "# 2번 사용자에 대해서 5개의 추천 영화를 CF 알고리즘 (이웃 크기 30)으로 설정 \n",
    "recom_movie(user_id=2, n_items=5, neighbor_size=30)"
   ]
  },
  {
   "cell_type": "markdown",
   "metadata": {},
   "source": [
    "- 편향을 추가했을 때 RMSE는 약 0.9434 로 1.01833의 보다 크게 개선되었으며, 주어진 사용자에 대한 추천도 다른 값이 나오는 것을 볼 수 있다 "
   ]
  },
  {
   "cell_type": "code",
   "execution_count": null,
   "metadata": {},
   "outputs": [],
   "source": []
  }
 ],
 "metadata": {
  "kernelspec": {
   "display_name": "Python 3",
   "language": "python",
   "name": "python3"
  },
  "language_info": {
   "codemirror_mode": {
    "name": "ipython",
    "version": 3
   },
   "file_extension": ".py",
   "mimetype": "text/x-python",
   "name": "python",
   "nbconvert_exporter": "python",
   "pygments_lexer": "ipython3",
   "version": "3.7.7"
  }
 },
 "nbformat": 4,
 "nbformat_minor": 4
}
