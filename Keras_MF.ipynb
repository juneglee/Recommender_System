{
 "cells": [
  {
   "cell_type": "markdown",
   "id": "0f017427",
   "metadata": {},
   "source": [
    "# 딥러닝을 사용한 추천 시스템"
   ]
  },
  {
   "cell_type": "code",
   "execution_count": 1,
   "id": "f0926d1c",
   "metadata": {},
   "outputs": [],
   "source": [
    "import pandas as pd\n",
    "import numpy as np\n",
    "\n",
    "from sklearn.utils import shuffle"
   ]
  },
  {
   "cell_type": "code",
   "execution_count": 2,
   "id": "87717f38",
   "metadata": {},
   "outputs": [],
   "source": [
    "# csv 파일에서 불러오기\n",
    "r_cols = ['user_id', 'movie_id', 'rating', 'timestamp']\n",
    "ratings = pd.read_csv('data/u.data', names=r_cols,  sep='\\t',encoding='latin-1')\n",
    "ratings = ratings[['user_id', 'movie_id', 'rating']].astype(int)"
   ]
  },
  {
   "cell_type": "code",
   "execution_count": 3,
   "id": "28290dc3",
   "metadata": {},
   "outputs": [],
   "source": [
    "# train test 분리\n",
    "TRAIN_SIZE = 0.75\n",
    "ratings = shuffle(ratings)\n",
    "cutoff = int(TRAIN_SIZE * len(ratings))\n",
    "ratings_train = ratings.iloc[:cutoff]\n",
    "ratings_test = ratings.iloc[cutoff:]"
   ]
  },
  {
   "cell_type": "markdown",
   "id": "14a7bfc0",
   "metadata": {},
   "source": [
    "### keras를 이용한 MF 신경망 구현"
   ]
  },
  {
   "cell_type": "code",
   "execution_count": 4,
   "id": "a11bcfed",
   "metadata": {},
   "outputs": [],
   "source": [
    "import tensorflow as tf\n",
    "from tensorflow.keras import layers\n",
    "from tensorflow.keras.models import Model\n",
    "from tensorflow.keras.layers import Input, Embedding, Dot, Add, Flatten\n",
    "from tensorflow.keras.regularizers import l2\n",
    "from tensorflow.keras.optimizers import SGD, Adamax\n",
    "\n",
    "# from tensorflow.keras.utils import plot_model"
   ]
  },
  {
   "cell_type": "code",
   "execution_count": 5,
   "id": "37ad7214",
   "metadata": {},
   "outputs": [],
   "source": [
    "# Variable 초기화 \n",
    "K = 200                             # Latent factor 수 (잠재요인 수)\n",
    "mu = ratings_train.rating.mean()    # 전체 평균 \n",
    "M = ratings.user_id.max() + 1       # Number of users\n",
    "N = ratings.movie_id.max() + 1      # Number of movies"
   ]
  },
  {
   "cell_type": "code",
   "execution_count": 6,
   "id": "4277d38a",
   "metadata": {},
   "outputs": [],
   "source": [
    "# Defining RMSE measure\n",
    "def RMSE(y_true, y_pred):\n",
    "    return tf.sqrt(tf.reduce_mean(tf.square(y_true - y_pred)))"
   ]
  },
  {
   "cell_type": "code",
   "execution_count": 7,
   "id": "9f574e88",
   "metadata": {},
   "outputs": [],
   "source": [
    "# Keras model\n",
    "user = Input(shape=(1, ))                                               # User input\n",
    "item = Input(shape=(1, ))                                               # Item input\n",
    "P_embedding = Embedding(M, K, embeddings_regularizer=l2())(user)        # 사용자 embedding layer 지정 (M, 1, K)\n",
    "Q_embedding = Embedding(N, K, embeddings_regularizer=l2())(item)        # 아이템 embedding layer 지정 (N, 1, K)\n",
    "user_bias = Embedding(M, 1, embeddings_regularizer=l2())(user)          # User bias term (M, 1, )\n",
    "item_bias = Embedding(N, 1, embeddings_regularizer=l2())(item)          # Item bias term (N, 1, )"
   ]
  },
  {
   "cell_type": "code",
   "execution_count": 8,
   "id": "eba369c3",
   "metadata": {},
   "outputs": [],
   "source": [
    "#R = Dot(axes=2)([P_embedding, Q_embedding)\n",
    "R = layers.dot([P_embedding, Q_embedding], axes=2)                      # 사용자, 아이템 내적 연산 (1, 1, 1)\n",
    "#R = Add()([R, user_bias, item_bias])\n",
    "R = layers.add([R, user_bias, item_bias])\n",
    "R = Flatten()(R)                                                        # (1, 1)"
   ]
  },
  {
   "cell_type": "code",
   "execution_count": 9,
   "id": "f0d13c77",
   "metadata": {},
   "outputs": [
    {
     "name": "stdout",
     "output_type": "stream",
     "text": [
      "Model: \"model\"\n",
      "__________________________________________________________________________________________________\n",
      "Layer (type)                    Output Shape         Param #     Connected to                     \n",
      "==================================================================================================\n",
      "input_1 (InputLayer)            [(None, 1)]          0                                            \n",
      "__________________________________________________________________________________________________\n",
      "input_2 (InputLayer)            [(None, 1)]          0                                            \n",
      "__________________________________________________________________________________________________\n",
      "embedding (Embedding)           (None, 1, 200)       188800      input_1[0][0]                    \n",
      "__________________________________________________________________________________________________\n",
      "embedding_1 (Embedding)         (None, 1, 200)       336600      input_2[0][0]                    \n",
      "__________________________________________________________________________________________________\n",
      "dot (Dot)                       (None, 1, 1)         0           embedding[0][0]                  \n",
      "                                                                 embedding_1[0][0]                \n",
      "__________________________________________________________________________________________________\n",
      "embedding_2 (Embedding)         (None, 1, 1)         944         input_1[0][0]                    \n",
      "__________________________________________________________________________________________________\n",
      "embedding_3 (Embedding)         (None, 1, 1)         1683        input_2[0][0]                    \n",
      "__________________________________________________________________________________________________\n",
      "add (Add)                       (None, 1, 1)         0           dot[0][0]                        \n",
      "                                                                 embedding_2[0][0]                \n",
      "                                                                 embedding_3[0][0]                \n",
      "__________________________________________________________________________________________________\n",
      "flatten (Flatten)               (None, 1)            0           add[0][0]                        \n",
      "==================================================================================================\n",
      "Total params: 528,027\n",
      "Trainable params: 528,027\n",
      "Non-trainable params: 0\n",
      "__________________________________________________________________________________________________\n"
     ]
    }
   ],
   "source": [
    "# Model setting\n",
    "model = Model(inputs=[user, item], outputs=R) # 입출력 정의 \n",
    "model.compile(\n",
    "  loss=RMSE,\n",
    "  optimizer=SGD(),\n",
    "  #optimizer=Adamax(),\n",
    "  metrics=[RMSE]\n",
    ")\n",
    "model.summary()\n"
   ]
  },
  {
   "cell_type": "code",
   "execution_count": 11,
   "id": "2075acce",
   "metadata": {},
   "outputs": [
    {
     "name": "stdout",
     "output_type": "stream",
     "text": [
      "Train on 75000 samples, validate on 25000 samples\n",
      "Epoch 1/60\n"
     ]
    },
    {
     "name": "stderr",
     "output_type": "stream",
     "text": [
      "C:\\Users\\user\\anaconda3\\lib\\site-packages\\tensorflow_core\\python\\framework\\indexed_slices.py:424: UserWarning: Converting sparse IndexedSlices to a dense Tensor of unknown shape. This may consume a large amount of memory.\n",
      "  \"Converting sparse IndexedSlices to a dense Tensor of unknown shape. \"\n"
     ]
    },
    {
     "name": "stdout",
     "output_type": "stream",
     "text": [
      " 2304/75000 [..............................] - ETA: 25s - loss: 5.5028 - RMSE: 1.1136 "
     ]
    },
    {
     "name": "stderr",
     "output_type": "stream",
     "text": [
      "C:\\Users\\user\\anaconda3\\lib\\site-packages\\tensorflow_core\\python\\framework\\indexed_slices.py:424: UserWarning: Converting sparse IndexedSlices to a dense Tensor of unknown shape. This may consume a large amount of memory.\n",
      "  \"Converting sparse IndexedSlices to a dense Tensor of unknown shape. \"\n"
     ]
    },
    {
     "name": "stdout",
     "output_type": "stream",
     "text": [
      "75000/75000 [==============================] - 3s 36us/sample - loss: 5.2727 - RMSE: 1.1235 - val_loss: 5.0366 - val_RMSE: 1.1265\n",
      "Epoch 2/60\n",
      "75000/75000 [==============================] - 2s 24us/sample - loss: 4.8119 - RMSE: 1.1215 - val_loss: 4.6024 - val_RMSE: 1.1246\n",
      "Epoch 3/60\n",
      "75000/75000 [==============================] - 2s 24us/sample - loss: 4.4019 - RMSE: 1.1196 - val_loss: 4.2162 - val_RMSE: 1.1229\n",
      "Epoch 4/60\n",
      "75000/75000 [==============================] - 2s 25us/sample - loss: 4.0376 - RMSE: 1.1181 - val_loss: 3.8728 - val_RMSE: 1.1213\n",
      "Epoch 5/60\n",
      "75000/75000 [==============================] - 2s 26us/sample - loss: 3.7133 - RMSE: 1.1164 - val_loss: 3.5673 - val_RMSE: 1.1198\n",
      "Epoch 6/60\n",
      "75000/75000 [==============================] - 2s 26us/sample - loss: 3.4251 - RMSE: 1.1149 - val_loss: 3.2957 - val_RMSE: 1.1184\n",
      "Epoch 7/60\n",
      "75000/75000 [==============================] - 2s 30us/sample - loss: 3.1687 - RMSE: 1.1136 - val_loss: 3.0542 - val_RMSE: 1.1171\n",
      "Epoch 8/60\n",
      "75000/75000 [==============================] - 2s 30us/sample - loss: 2.9407 - RMSE: 1.1123 - val_loss: 2.8394 - val_RMSE: 1.1159\n",
      "Epoch 9/60\n",
      "75000/75000 [==============================] - 2s 31us/sample - loss: 2.7378 - RMSE: 1.1110 - val_loss: 2.6483 - val_RMSE: 1.1148\n",
      "Epoch 10/60\n",
      "75000/75000 [==============================] - 2s 28us/sample - loss: 2.5577 - RMSE: 1.1101 - val_loss: 2.4784 - val_RMSE: 1.1137\n",
      "Epoch 11/60\n",
      "75000/75000 [==============================] - 2s 29us/sample - loss: 2.3973 - RMSE: 1.1090 - val_loss: 2.3273 - val_RMSE: 1.1128\n",
      "Epoch 12/60\n",
      "75000/75000 [==============================] - 2s 28us/sample - loss: 2.2546 - RMSE: 1.1080 - val_loss: 2.1929 - val_RMSE: 1.1119\n",
      "Epoch 13/60\n",
      "75000/75000 [==============================] - 2s 28us/sample - loss: 2.1279 - RMSE: 1.1073 - val_loss: 2.0734 - val_RMSE: 1.1110\n",
      "Epoch 14/60\n",
      "75000/75000 [==============================] - 2s 27us/sample - loss: 2.0150 - RMSE: 1.1063 - val_loss: 1.9672 - val_RMSE: 1.1103\n",
      "Epoch 15/60\n",
      "75000/75000 [==============================] - 2s 28us/sample - loss: 1.9147 - RMSE: 1.1056 - val_loss: 1.8726 - val_RMSE: 1.1095\n",
      "Epoch 16/60\n",
      "75000/75000 [==============================] - 2s 30us/sample - loss: 1.8255 - RMSE: 1.1049 - val_loss: 1.7886 - val_RMSE: 1.1089\n",
      "Epoch 17/60\n",
      "75000/75000 [==============================] - 2s 29us/sample - loss: 1.7461 - RMSE: 1.1042 - val_loss: 1.7138 - val_RMSE: 1.1082\n",
      "Epoch 18/60\n",
      "75000/75000 [==============================] - 2s 32us/sample - loss: 1.6756 - RMSE: 1.1036 - val_loss: 1.6473 - val_RMSE: 1.1076\n",
      "Epoch 19/60\n",
      "75000/75000 [==============================] - 2s 31us/sample - loss: 1.6129 - RMSE: 1.1031 - val_loss: 1.5882 - val_RMSE: 1.1071\n",
      "Epoch 20/60\n",
      "75000/75000 [==============================] - 2s 31us/sample - loss: 1.5569 - RMSE: 1.1024 - val_loss: 1.5356 - val_RMSE: 1.1066\n",
      "Epoch 21/60\n",
      "75000/75000 [==============================] - 2s 29us/sample - loss: 1.5073 - RMSE: 1.1019 - val_loss: 1.4889 - val_RMSE: 1.1061\n",
      "Epoch 22/60\n",
      "75000/75000 [==============================] - 2s 29us/sample - loss: 1.4633 - RMSE: 1.1016 - val_loss: 1.4473 - val_RMSE: 1.1056\n",
      "Epoch 23/60\n",
      "75000/75000 [==============================] - 2s 29us/sample - loss: 1.4240 - RMSE: 1.1011 - val_loss: 1.4103 - val_RMSE: 1.1052\n",
      "Epoch 24/60\n",
      "75000/75000 [==============================] - 2s 28us/sample - loss: 1.3891 - RMSE: 1.1007 - val_loss: 1.3774 - val_RMSE: 1.1048\n",
      "Epoch 25/60\n",
      "75000/75000 [==============================] - 2s 29us/sample - loss: 1.3580 - RMSE: 1.1003 - val_loss: 1.3481 - val_RMSE: 1.1045\n",
      "Epoch 26/60\n",
      "75000/75000 [==============================] - 2s 31us/sample - loss: 1.3303 - RMSE: 1.0999 - val_loss: 1.3221 - val_RMSE: 1.1041\n",
      "Epoch 27/60\n",
      "75000/75000 [==============================] - 2s 31us/sample - loss: 1.3060 - RMSE: 1.0998 - val_loss: 1.2990 - val_RMSE: 1.1038\n",
      "Epoch 28/60\n",
      "75000/75000 [==============================] - 2s 31us/sample - loss: 1.2841 - RMSE: 1.0994 - val_loss: 1.2784 - val_RMSE: 1.1035\n",
      "Epoch 29/60\n",
      "75000/75000 [==============================] - 2s 31us/sample - loss: 1.2646 - RMSE: 1.0991 - val_loss: 1.2601 - val_RMSE: 1.1032\n",
      "Epoch 30/60\n",
      "75000/75000 [==============================] - 2s 31us/sample - loss: 1.2473 - RMSE: 1.0987 - val_loss: 1.2438 - val_RMSE: 1.1030\n",
      "Epoch 31/60\n",
      "75000/75000 [==============================] - 2s 31us/sample - loss: 1.2320 - RMSE: 1.0985 - val_loss: 1.2294 - val_RMSE: 1.1027\n",
      "Epoch 32/60\n",
      "75000/75000 [==============================] - 2s 32us/sample - loss: 1.2183 - RMSE: 1.0982 - val_loss: 1.2165 - val_RMSE: 1.1025\n",
      "Epoch 33/60\n",
      "75000/75000 [==============================] - 2s 31us/sample - loss: 1.2062 - RMSE: 1.0981 - val_loss: 1.2050 - val_RMSE: 1.1023\n",
      "Epoch 34/60\n",
      "75000/75000 [==============================] - 2s 32us/sample - loss: 1.1954 - RMSE: 1.0978 - val_loss: 1.1949 - val_RMSE: 1.1021\n",
      "Epoch 35/60\n",
      "75000/75000 [==============================] - 2s 31us/sample - loss: 1.1857 - RMSE: 1.0976 - val_loss: 1.1858 - val_RMSE: 1.1019\n",
      "Epoch 36/60\n",
      "75000/75000 [==============================] - 3s 35us/sample - loss: 1.1772 - RMSE: 1.0975 - val_loss: 1.1777 - val_RMSE: 1.1017\n",
      "Epoch 37/60\n",
      "75000/75000 [==============================] - 3s 36us/sample - loss: 1.1695 - RMSE: 1.0972 - val_loss: 1.1706 - val_RMSE: 1.1016\n",
      "Epoch 38/60\n",
      "75000/75000 [==============================] - 2s 32us/sample - loss: 1.1629 - RMSE: 1.0973 - val_loss: 1.1642 - val_RMSE: 1.1014\n",
      "Epoch 39/60\n",
      "75000/75000 [==============================] - 2s 31us/sample - loss: 1.1570 - RMSE: 1.0971 - val_loss: 1.1586 - val_RMSE: 1.1013\n",
      "Epoch 40/60\n",
      "75000/75000 [==============================] - 2s 31us/sample - loss: 1.1515 - RMSE: 1.0969 - val_loss: 1.1535 - val_RMSE: 1.1011\n",
      "Epoch 41/60\n",
      "75000/75000 [==============================] - 2s 30us/sample - loss: 1.1468 - RMSE: 1.0968 - val_loss: 1.1490 - val_RMSE: 1.1010\n",
      "Epoch 42/60\n",
      "75000/75000 [==============================] - 2s 30us/sample - loss: 1.1424 - RMSE: 1.0965 - val_loss: 1.1450 - val_RMSE: 1.1009\n",
      "Epoch 43/60\n",
      "75000/75000 [==============================] - 2s 30us/sample - loss: 1.1386 - RMSE: 1.0963 - val_loss: 1.1415 - val_RMSE: 1.1008\n",
      "Epoch 44/60\n",
      "75000/75000 [==============================] - 2s 29us/sample - loss: 1.1354 - RMSE: 1.0964 - val_loss: 1.1384 - val_RMSE: 1.1007\n",
      "Epoch 45/60\n",
      "75000/75000 [==============================] - 2s 29us/sample - loss: 1.1324 - RMSE: 1.0963 - val_loss: 1.1355 - val_RMSE: 1.1006\n",
      "Epoch 46/60\n",
      "75000/75000 [==============================] - 2s 28us/sample - loss: 1.1298 - RMSE: 1.0963 - val_loss: 1.1331 - val_RMSE: 1.1005\n",
      "Epoch 47/60\n",
      "75000/75000 [==============================] - 2s 28us/sample - loss: 1.1274 - RMSE: 1.0961 - val_loss: 1.1308 - val_RMSE: 1.1004\n",
      "Epoch 48/60\n",
      "75000/75000 [==============================] - 2s 28us/sample - loss: 1.1254 - RMSE: 1.0961 - val_loss: 1.1289 - val_RMSE: 1.1003\n",
      "Epoch 49/60\n",
      "75000/75000 [==============================] - 2s 30us/sample - loss: 1.1235 - RMSE: 1.0960 - val_loss: 1.1271 - val_RMSE: 1.1003\n",
      "Epoch 50/60\n",
      "75000/75000 [==============================] - 2s 29us/sample - loss: 1.1218 - RMSE: 1.0959 - val_loss: 1.1256 - val_RMSE: 1.1002\n",
      "Epoch 51/60\n",
      "75000/75000 [==============================] - 2s 29us/sample - loss: 1.1204 - RMSE: 1.0959 - val_loss: 1.1242 - val_RMSE: 1.1001\n",
      "Epoch 52/60\n",
      "75000/75000 [==============================] - 2s 30us/sample - loss: 1.1189 - RMSE: 1.0957 - val_loss: 1.1229 - val_RMSE: 1.1001\n",
      "Epoch 53/60\n",
      "75000/75000 [==============================] - 2s 29us/sample - loss: 1.1179 - RMSE: 1.0957 - val_loss: 1.1218 - val_RMSE: 1.1000\n",
      "Epoch 54/60\n",
      "75000/75000 [==============================] - 2s 29us/sample - loss: 1.1169 - RMSE: 1.0957 - val_loss: 1.1209 - val_RMSE: 1.1000\n",
      "Epoch 55/60\n",
      "75000/75000 [==============================] - 2s 29us/sample - loss: 1.1159 - RMSE: 1.0956 - val_loss: 1.1200 - val_RMSE: 1.0999\n",
      "Epoch 56/60\n",
      "75000/75000 [==============================] - 2s 29us/sample - loss: 1.1150 - RMSE: 1.0955 - val_loss: 1.1192 - val_RMSE: 1.0999\n",
      "Epoch 57/60\n",
      "75000/75000 [==============================] - 2s 29us/sample - loss: 1.1143 - RMSE: 1.0954 - val_loss: 1.1185 - val_RMSE: 1.0998\n",
      "Epoch 58/60\n",
      "75000/75000 [==============================] - 2s 30us/sample - loss: 1.1137 - RMSE: 1.0955 - val_loss: 1.1179 - val_RMSE: 1.0998\n"
     ]
    },
    {
     "name": "stdout",
     "output_type": "stream",
     "text": [
      "Epoch 59/60\n",
      "75000/75000 [==============================] - 2s 30us/sample - loss: 1.1132 - RMSE: 1.0955 - val_loss: 1.1174 - val_RMSE: 1.0997\n",
      "Epoch 60/60\n",
      "75000/75000 [==============================] - 2s 30us/sample - loss: 1.1126 - RMSE: 1.0953 - val_loss: 1.1169 - val_RMSE: 1.0997\n"
     ]
    }
   ],
   "source": [
    "# Model fitting\n",
    "result = model.fit(\n",
    "  x=[ratings_train.user_id.values, ratings_train.movie_id.values],\n",
    "  y=ratings_train.rating.values - mu,\n",
    "  epochs=60,\n",
    "  batch_size=256,\n",
    "  validation_data=(\n",
    "    [ratings_test.user_id.values, ratings_test.movie_id.values],\n",
    "    ratings_test.rating.values - mu\n",
    "  )\n",
    ")"
   ]
  },
  {
   "cell_type": "code",
   "execution_count": 12,
   "id": "1732a33f",
   "metadata": {},
   "outputs": [
    {
     "data": {
      "image/png": "[encoded data removed]",
      "text/plain": [
       "<Figure size 432x288 with 1 Axes>"
      ]
     },
     "metadata": {
      "needs_background": "light"
     },
     "output_type": "display_data"
    }
   ],
   "source": [
    "# Plot RMSE\n",
    "import matplotlib.pyplot as plt\n",
    "plt.plot(result.history['RMSE'], label=\"Train RMSE\")\n",
    "plt.plot(result.history['val_RMSE'], label=\"Test RMSE\")\n",
    "plt.xlabel('epoch')\n",
    "plt.ylabel('RMSE')\n",
    "plt.legend()\n",
    "plt.show()"
   ]
  },
  {
   "cell_type": "code",
   "execution_count": 13,
   "id": "2afc357a",
   "metadata": {},
   "outputs": [
    {
     "name": "stdout",
     "output_type": "stream",
     "text": [
      "Actuals: \n",
      "        user_id  movie_id  rating\n",
      "56284      642      1049       3\n",
      "77295      864      1101       4\n",
      "32683      145       134       4\n",
      "47298       94       286       4\n",
      "16094      360        13       3\n",
      "40705      315       121       2\n",
      "\n",
      "Predictions: \n",
      " [[3.5232866]\n",
      " [3.576909 ]\n",
      " [3.5721054]\n",
      " [3.5806026]\n",
      " [3.548705 ]\n",
      " [3.5302157]]\n"
     ]
    }
   ],
   "source": [
    "# Prediction\n",
    "# 예측 대상(사용자-아이템)을 train set의 맨 처음 6개로 정한다 \n",
    "user_ids = ratings_test.user_id.values[0:6]\n",
    "movie_ids = ratings_test.movie_id.values[0:6]\n",
    "\n",
    "predictions = model.predict([user_ids, movie_ids]) + mu # 예측치를 구한 후 전체 평균을 더한다.\n",
    "print(\"Actuals: \\n\", ratings_test[0:6])\n",
    "print( )\n",
    "print(\"Predictions: \\n\", predictions)"
   ]
  },
  {
   "cell_type": "code",
   "execution_count": 14,
   "id": "45be0926",
   "metadata": {},
   "outputs": [
    {
     "data": {
      "text/plain": [
       "1.1005080476754379"
      ]
     },
     "execution_count": 14,
     "metadata": {},
     "output_type": "execute_result"
    }
   ],
   "source": [
    "# RMSE check\n",
    "def RMSE2(y_true, y_pred):\n",
    "    return np.sqrt(np.mean((np.array(y_true) - np.array(y_pred))**2))\n",
    "\n",
    "user_ids = ratings_test.user_id.values\n",
    "movie_ids = ratings_test.movie_id.values\n",
    "y_pred = model.predict([user_ids, movie_ids]) + mu\n",
    "y_pred = np.ravel(y_pred, order='C')\n",
    "y_true = np.array(ratings_test.rating)\n",
    "\n",
    "RMSE2(y_true, y_pred)"
   ]
  },
  {
   "cell_type": "code",
   "execution_count": null,
   "id": "337fea20",
   "metadata": {},
   "outputs": [],
   "source": []
  }
 ],
 "metadata": {
  "kernelspec": {
   "display_name": "Python 3",
   "language": "python",
   "name": "python3"
  },
  "language_info": {
   "codemirror_mode": {
    "name": "ipython",
    "version": 3
   },
   "file_extension": ".py",
   "mimetype": "text/x-python",
   "name": "python",
   "nbconvert_exporter": "python",
   "pygments_lexer": "ipython3",
   "version": "3.7.7"
  }
 },
 "nbformat": 4,
 "nbformat_minor": 5
}
